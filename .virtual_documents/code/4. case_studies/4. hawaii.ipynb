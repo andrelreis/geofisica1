








import numpy as np
import matplotlib.pyplot as plt
import harmonica as hm
import cartopy.crs as ccrs
import matplotlib.colors as colors
import boule as bl
import pyproj
import verde as vd





fname = 'dataset/gravity_earth_hawaii.gdf'
gravity = hm.load_icgem_gdf(fname)


fname = 'dataset/geoid_hawaii.gdf'
geoid = hm.load_icgem_gdf(fname)


fname = 'dataset/topography_hawaii.gdf'
topo = hm.load_icgem_gdf(fname)





lat = gravity.latitude
lon = gravity.longitude
elevation = gravity.h_over_geoid
data = gravity.gravity_earth
geoidal_height = geoid.geoid
topography = topo.topography_shm


longitude, latitude = np.meshgrid(lon.values,lat.values)


field = data.values.reshape(longitude.shape)





fig = plt.figure(figsize=[6,6])

ax = fig.add_subplot(projection=ccrs.PlateCarree())
ax.set_title('Gravity (Hawaii)',fontsize=15)
ax.coastlines(linewidth=0.5)
ax.set_extent([lon.values.min(),lon.values.max(),
               lat.values.min(),lat.values.max()], ccrs.PlateCarree())
gd = ax.gridlines(visible=None,draw_labels=True, dms=False, x_inline=False, y_inline=False)
gd.top_labels = False
gd.right_labels = False

cmap = ax.contourf(longitude,latitude,field,
                   100,transform=ccrs.PlateCarree(),
                   cmap='viridis')

cbar = fig.colorbar(cmap,orientation='vertical',pad=0.02,aspect=50,spacing='uniform',ax=ax,fraction=0.011)
cbar.set_label('mGal',fontsize=10)

plt.savefig('images/gravity_earth_hawaii.png',dpi=200,bbox_inches='tight')

plt.show()





normal_gravity = bl.WGS84.normal_gravity(latitude, elevation)


fig = plt.figure(figsize=[6,6])

ax = fig.add_subplot(projection=ccrs.PlateCarree())
ax.set_title('Normal gravity (Hawaii)',fontsize=15)
ax.coastlines(linewidth=0.5)
ax.set_extent([lon.values.min(),lon.values.max(),
               lat.values.min(),lat.values.max()], ccrs.PlateCarree())
gd = ax.gridlines(visible=None,draw_labels=True, dms=False, x_inline=False, y_inline=False)
gd.top_labels = False
gd.right_labels = False

cmap = ax.contourf(longitude,latitude,normal_gravity,
                   100,transform=ccrs.PlateCarree(),
                   cmap='viridis')

cbar = fig.colorbar(cmap,orientation='vertical',pad=0.02,aspect=50,spacing='uniform',ax=ax,fraction=0.011)
cbar.set_label('mGal',fontsize=10)

plt.savefig('images/normal_gravity_hawaii.png',dpi=200,bbox_inches='tight')

plt.show()





disturbance = field - normal_gravity


fig = plt.figure(figsize=[6,6])

ax = fig.add_subplot(projection=ccrs.PlateCarree())
ax.set_title('Gravity Disturbance (Hawaii)',fontsize=15)
ax.coastlines(linewidth=0.5)
ax.set_extent([lon.values.min(),lon.values.max(),
               lat.values.min(),lat.values.max()], ccrs.PlateCarree())
gd = ax.gridlines(visible=None,draw_labels=True, dms=False, x_inline=False, y_inline=False)
gd.top_labels = False
gd.right_labels = False

cmap = ax.contourf(lon,lat,disturbance,
                   100,transform=ccrs.PlateCarree(),
                   norm=colors.CenteredNorm(),
                   cmap='RdBu_r')

cbar = fig.colorbar(cmap,orientation='vertical',pad=0.02,aspect=50,spacing='uniform',ax=ax,fraction=0.011)
cbar.set_label('mGal',fontsize=10)

plt.savefig('images/disturbance_hawaii.png',dpi=200,bbox_inches='tight')

plt.show()





fig = plt.figure(figsize=[6,6])

ax = fig.add_subplot(projection=ccrs.PlateCarree())
ax.set_title('Topography (Hawaii)',fontsize=15)
ax.coastlines(linewidth=0.5)
ax.set_extent([lon.values.min(),lon.values.max(),
               lat.values.min(),lat.values.max()], ccrs.PlateCarree())
gd = ax.gridlines(visible=None,draw_labels=True, dms=False, x_inline=False, y_inline=False)
gd.top_labels = False
gd.right_labels = False

cmap = ax.contourf(longitude,latitude,topography,
                   100,transform=ccrs.PlateCarree(),
                   norm=colors.CenteredNorm(),
                   cmap='terrain')

cbar = fig.colorbar(cmap,orientation='vertical',pad=0.02,aspect=50,spacing='uniform',ax=ax,fraction=0.011)
cbar.set_label('meters',fontsize=10)

plt.savefig('images/topography_hawaii.png',dpi=200,bbox_inches='tight')

plt.show()





reference = geoidal_height + topography
bouguer_correction = hm.bouguer_correction(reference)
bouguer_anomaly = disturbance - bouguer_correction


fig = plt.figure(figsize=[6,6])

ax = fig.add_subplot(projection=ccrs.PlateCarree())
ax.set_title('Bouguer Anomaly (Hawaii)',fontsize=15)
ax.coastlines(linewidth=0.5)
ax.set_extent([lon.values.min(),lon.values.max(),
               lat.values.min(),lat.values.max()], ccrs.PlateCarree())
gd = ax.gridlines(visible=None,draw_labels=True, dms=False, x_inline=False, y_inline=False)
gd.top_labels = False
gd.right_labels = False

cmap = ax.contourf(longitude,latitude,bouguer_anomaly,
                   100,transform=ccrs.PlateCarree(),
                   norm=colors.CenteredNorm(),
                   cmap='RdBu_r')

cbar = fig.colorbar(cmap,orientation='vertical',pad=0.02,aspect=50,spacing='uniform',ax=ax,fraction=0.011)
cbar.set_label('mGal',fontsize=10)

plt.savefig('images/bouguer_hawaii.png',dpi=200,bbox_inches='tight')

plt.show()








projection = pyproj.Proj(proj="merc", lat_ts=lat.values.mean())


proj_coords = projection(longitude,latitude)





spacing = 3/60
reducer = vd.BlockReduce(reduction="mean", spacing=spacing * 111*1e3)





filter_coords, filter_disturbance = reducer.filter(proj_coords, disturbance)
spline = vd.Spline(damping=1e-15).fit(filter_coords, filter_disturbance)


point1 = (-158.0,22.5)
point2 = (-158.0,20.0)
line_disturbance = spline.profile(
    point1=point1,
    point2=point2,
    size=300,
    projection=projection,
    dims=("latitude","longitude"),
    data_names=("disturbance"),
)


fig = plt.figure(figsize=[6,6])

ax = fig.add_subplot(projection=ccrs.PlateCarree())
ax.set_title('Distúrbio de gravidade (Hawaii)',fontsize=15)
ax.coastlines(linewidth=0.5)
ax.set_extent([lon.values.min(),lon.values.max(),
               lat.values.min(),lat.values.max()], ccrs.PlateCarree())
gd = ax.gridlines(visible=None,draw_labels=True, dms=False, x_inline=False, y_inline=False)
gd.top_labels = False
gd.right_labels = False

cmap = ax.contourf(longitude,latitude,disturbance,
                   100,transform=ccrs.PlateCarree(),
                   norm=colors.CenteredNorm(),
                   cmap='RdBu_r')

cbar = fig.colorbar(cmap,orientation='vertical',pad=0.02,aspect=50,spacing='uniform',ax=ax,fraction=0.011)
cbar.set_label('mGal',fontsize=10)

ax.plot(line_disturbance.longitude, line_disturbance.latitude, "-k", transform=ccrs.PlateCarree())
ax.text(point1[0], point1[1], "A", transform=ccrs.PlateCarree())
ax.text(point2[0], point2[1], "B", transform=ccrs.PlateCarree())

plt.savefig('images/disturbance_profile_hawaii.png',dpi=200,bbox_inches='tight')

plt.show()





filter_coords, filter_bouguer = reducer.filter(proj_coords, bouguer_anomaly)
spline = vd.Spline(damping=1e-15).fit(filter_coords, filter_bouguer)


point1 = (-159.5,22.5)
point2 = (-158.0,20.0)
line_bouguer = spline.profile(
    point1=point1,
    point2=point2,
    size=300,
    projection=projection,
    dims=("latitude","longitude"),
    data_names=("bouguer_anomaly"),
)


fig = plt.figure(figsize=[6,6])

ax = fig.add_subplot(projection=ccrs.PlateCarree())
ax.set_title('Anomalia Bouguer (Hawaii)',fontsize=15)
ax.coastlines(linewidth=0.5)
ax.set_extent([lon.values.min(),lon.values.max(),
               lat.values.min(),lat.values.max()], ccrs.PlateCarree())
gd = ax.gridlines(visible=None,draw_labels=True, dms=False, x_inline=False, y_inline=False)
gd.top_labels = False
gd.right_labels = False

cmap = ax.contourf(longitude,latitude,bouguer_anomaly,
                   100,transform=ccrs.PlateCarree(),
                   norm=colors.CenteredNorm(),
                   cmap='RdBu_r')

cbar = fig.colorbar(cmap,orientation='vertical',pad=0.02,aspect=50,spacing='uniform',ax=ax,fraction=0.011)
cbar.set_label('mGal',fontsize=10)

ax.plot(line_bouguer.longitude, line_bouguer.latitude, "-k", transform=ccrs.PlateCarree())
ax.text(point1[0], point1[1], "A", transform=ccrs.PlateCarree())
ax.text(point2[0], point2[1], "B", transform=ccrs.PlateCarree())

plt.savefig('images/bouguer_profile_hawaii.png',dpi=200,bbox_inches='tight')

plt.show()





filter_coords, filter_topo = reducer.filter(proj_coords, topography)
spline = vd.Spline(damping=1e-15).fit(filter_coords, filter_topo)


point1 = (-158.0,22.5)
point2 = (-158.0,20.0)
line_topo = spline.profile(
    point1=point1,
    point2=point2,
    size=300,
    projection=projection,
    dims=("latitude","longitude"),
    data_names=("topography"),
)


fig = plt.figure(figsize=[6,6])

ax = fig.add_subplot(projection=ccrs.PlateCarree())
ax.set_title('Topografia (Hawaii)',fontsize=15)
ax.coastlines(linewidth=0.5)
ax.set_extent([lon.values.min(),lon.values.max(),
               lat.values.min(),lat.values.max()], ccrs.PlateCarree())
gd = ax.gridlines(visible=None,draw_labels=True, dms=False, x_inline=False, y_inline=False)
gd.top_labels = False
gd.right_labels = False

cmap = ax.contourf(longitude,latitude,topography,
                   100,transform=ccrs.PlateCarree(),
                   norm=colors.CenteredNorm(),
                   cmap='terrain')

cbar = fig.colorbar(cmap,orientation='vertical',pad=0.02,aspect=50,spacing='uniform',ax=ax,fraction=0.011)
cbar.set_label('meters',fontsize=10)

ax.plot(line_topo.longitude, line_topo.latitude, "-k", transform=ccrs.PlateCarree())
ax.text(point1[0], point1[1], "A", transform=ccrs.PlateCarree())
ax.text(point2[0], point2[1], "B", transform=ccrs.PlateCarree())

plt.savefig('images/topography_profile_hawaii.png',dpi=200,bbox_inches='tight')

plt.show()





fig, (ax1, ax2) = plt.subplots(2, 1, sharex=True,figsize=(12, 5))

ax1.set_title("Profile (A-B)")
ax1.plot(line_disturbance.distance,line_disturbance.disturbance,'-b',label='Disturbio')
ax1.plot(line_bouguer.distance,line_bouguer.bouguer_anomaly,'-r',label='Bouguer')
ax1.set_ylabel("Gravity (m)")
ax1.set_xlim(line_disturbance.distance.min(), line_disturbance.distance.max())
ax1.grid()

ax2.fill_between([line_topo.distance.min(), line_topo.distance.max()], [0, 0], -10000, color='blue')
ax2.fill_between(line_topo.distance,line_topo.topography,-10000.,color='black')
ax2.set_xlabel("Distance (m)")
ax2.set_ylabel("Topography (m)")
ax2.set_xlim(line_topo.distance.min(), line_topo.distance.max())
ax2.set_ylim(line_topo.topography.min(), line_topo.topography.max() + 100.)

plt.savefig('images/profile_hawaii.png',dpi=200,bbox_inches='tight')

plt.show()






