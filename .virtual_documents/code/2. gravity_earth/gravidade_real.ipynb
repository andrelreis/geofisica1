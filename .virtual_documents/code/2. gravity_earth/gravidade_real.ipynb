














import numpy as np
import matplotlib.pyplot as plt
import harmonica as hm
import cartopy.crs as ccrs








fname = 'dataset/earth_gravity_XGM2019e.gdf'
data = hm.load_icgem_gdf(fname)


fname = 'dataset/geoid_XGM2019e.gdf'
geoid = hm.load_icgem_gdf(fname)





lat = data.latitude
lon = data.longitude
gravity = data.gravity_earth
geoidal_height = geoid.geoid





fig = plt.figure(figsize=(11,6))

ax = fig.add_subplot(projection=ccrs.Mollweide())
ax.coastlines(linewidth=0.5)
ax.set_global()
ax.set_title('Gravity Earth',fontsize=15)
cmap = ax.contourf(lon,lat,gravity,100,transform=ccrs.PlateCarree(),cmap='viridis',extend='both')
cbar = fig.colorbar(cmap,orientation='horizontal',pad=0.05,aspect=120,spacing='uniform',ax=ax)
cbar.set_label('mGal',fontsize=10)

plt.savefig('images/gravity_earth.png',dpi=200,bbox_inches='tight')
plt.show()





fig = plt.figure(figsize=(11,6))

ax = fig.add_subplot(projection=ccrs.Mollweide())
ax.coastlines(linewidth=0.5)
ax.set_global()
ax.set_title('Geoidal surface',fontsize=15)
cmap = ax.contourf(lon,lat,geoidal_height,100,transform=ccrs.PlateCarree(),cmap='RdBu_r',extend='both')
cbar = fig.colorbar(cmap,orientation='horizontal',pad=0.05,aspect=120,spacing='uniform',ax=ax)
cbar.set_label('meters',fontsize=10)

plt.savefig('images/geoidal_surface.png',dpi=200,bbox_inches='tight')
plt.show()



