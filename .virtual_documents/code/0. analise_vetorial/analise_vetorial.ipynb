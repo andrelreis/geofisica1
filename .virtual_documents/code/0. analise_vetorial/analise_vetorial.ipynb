








import numpy as np
import matplotlib.pyplot as plt








a = np.array([1.,3.,5.])
print (a)


b = np.array([2.,4.,6.])
print (b)


c = np.array([10.,20.,30.])
print (c)





print (a + b)





print (np.dot(a,b))





print (np.cross(a,b))








np.allclose(a+b,b+a)


print (a+b)


print (b+a)





np.allclose(np.dot(a,b),np.dot(b,a))


print (np.dot(a,b))


print (np.dot(b,a))





np.allclose(np.cross(a,b),-np.cross(b,a))


print (np.cross(a,b))


print (np.cross(b,a))





np.allclose(np.dot(a,(b+c)), np.dot(a,b)+np.dot(a,c))


print (np.dot(a,(b+c)))


print (np.dot(a,b) + np.dot(a,c))





np.allclose(np.cross(a,(b+c)),np.cross(a,b) + np.cross(a,c))


print (np.cross(a,(b+c)))


print (np.cross(a,b) + np.cross(a,c))








x = np.arange(-10,10,1)
y = np.arange(-10,10,1)


X,Y = np.meshgrid(x,y)


Fx = -Y/(np.sqrt(X**2 + Y**2) + 1e-10)
Fy = X/(np.sqrt(X*X + Y*Y)  + 1e-10)


fig,ax = plt.subplots(figsize=(6,6))

q = ax.quiver(X, Y, Fx, Fy,pivot='tip',color='k')
ax.set_title('Vector field')
ax.set_xlabel('x')
ax.set_ylabel('y')

plt.show()








fxy = X*X + Y*Y


fx = 2*X
fy = 2*Y


fig,ax = plt.subplots(figsize=(6,5))

cm = ax.contourf(X,Y,fxy,50,cmap='RdBu_r',extend='both')
q = ax.quiver(X, Y, fx, fy,pivot='mid',color='k')
fig.colorbar(cm, ax=ax,shrink=1.0,aspect=40,pad=0.02)
ax.set_title('Gradient field')
ax.set_xlabel('x')
ax.set_ylabel('y')

plt.show()





fxy = X**3 + Y**3


fx = 3*X*X
fy = 3*Y*y


fig,ax = plt.subplots(figsize=(6,5))

cm = ax.contourf(X,Y,fxy,50,cmap='RdBu_r',extend='both')
q = ax.quiver(X, Y, fx, fy,pivot='mid',color='k')
fig.colorbar(cm, ax=ax,shrink=1.0,aspect=40,pad=0.02)
ax.set_title('Gradient field')
ax.set_xlabel('x')
ax.set_ylabel('y')

plt.show()
