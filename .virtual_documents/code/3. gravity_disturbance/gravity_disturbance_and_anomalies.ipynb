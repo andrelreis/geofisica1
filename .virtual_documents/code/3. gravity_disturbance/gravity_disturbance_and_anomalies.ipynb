

















import numpy as np
import matplotlib.pyplot as plt
import harmonica as hm
import cartopy.crs as ccrs
import matplotlib.colors as colors
import boule as bl








fname = 'dataset/earth_gravity_XGM2019e.gdf'
gravity = hm.load_icgem_gdf(fname)


fname = 'dataset/geoid_XGM2019e.gdf'
geoid = hm.load_icgem_gdf(fname)


fname = 'dataset/topography.gdf'
topo = hm.load_icgem_gdf(fname)





lat = gravity.latitude
lon = gravity.longitude
elevation = gravity.h_over_geoid
data = gravity.gravity_earth
geoidal_height = geoid.geoid
topography = topo.topography_grd





fig = plt.figure(figsize=(11,6))

ax = fig.add_subplot(projection=ccrs.Mollweide())
ax.coastlines(linewidth=0.5)
ax.set_global()
ax.set_title('Gravity Earth',fontsize=15)
cmap = ax.contourf(lon,lat,data,100,transform=ccrs.PlateCarree(),cmap='viridis',extend='both')
cbar = fig.colorbar(cmap,orientation='horizontal',pad=0.05,aspect=120,spacing='uniform',ax=ax)
cbar.set_label('mGal',fontsize=10)

plt.show()





normal_gravity = bl.WGS84.normal_gravity(lat, elevation)


fig = plt.figure(figsize=(11,6))

ax = fig.add_subplot(projection=ccrs.Mollweide())
ax.coastlines(linewidth=0.5)
ax.set_global()
ax.set_title('Normal gravity',fontsize=15)
cmap = ax.contourf(lon,lat,normal_gravity,100,transform=ccrs.PlateCarree(),cmap='viridis',extend='both')
cbar = fig.colorbar(cmap,orientation='horizontal',pad=0.05,aspect=120,spacing='uniform',ax=ax)
cbar.set_label('mGal',fontsize=10)

plt.savefig('images/normal_gravity_surface.png',dpi=200,bbox_inches='tight')
plt.show()





disturbance = data - normal_gravity


fig = plt.figure(figsize=(11,6))

ax = fig.add_subplot(projection=ccrs.Mollweide())
ax.coastlines(linewidth=0.5)
ax.set_global()
ax.set_title('Gravity Disturbance',fontsize=15)
cmap = ax.contourf(lon,lat,disturbance,100,transform=ccrs.PlateCarree(),cmap='seismic',extend='both')
cbar = fig.colorbar(cmap,orientation='horizontal',pad=0.05,aspect=120,spacing='uniform',ax=ax)
cbar.set_label('mGal',fontsize=10)

plt.savefig('images/gravity_disturbance.png',dpi=200,bbox_inches='tight')
plt.show()





reference = geoidal_height + topography


bouguer_correction = hm.bouguer_correction(reference)


bouguer_anomaly = disturbance - bouguer_correction


fig = plt.figure(figsize=(11,6))

ax = fig.add_subplot(projection=ccrs.Mollweide())
ax.coastlines(linewidth=0.5)
ax.set_global()
ax.set_title('Bouguer Anomaly',fontsize=15)
cmap = ax.contourf(lon,lat,bouguer_anomaly,100,transform=ccrs.PlateCarree(),cmap='RdBu_r',norm=colors.CenteredNorm(),extend='both')
cbar = fig.colorbar(cmap,orientation='horizontal',pad=0.05,aspect=120,spacing='uniform',ax=ax)
cbar.set_label('mGal',fontsize=10)

plt.savefig('images/bouguer_anomaly.png',dpi=200,bbox_inches='tight')
plt.show()
