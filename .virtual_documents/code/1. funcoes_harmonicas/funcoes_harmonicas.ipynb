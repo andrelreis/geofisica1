














import numpy as np
import matplotlib.pyplot as plt





x = np.linspace(-10.,10.,num=50,endpoint=True)
y = np.linspace(-10.,10.,num=50,endpoint=True)
Y,X = np.meshgrid(y,x)
Z = np.zeros_like(X)


x_line = 0.
y_line = 0.
z_line = 5.


norm_r = np.sqrt((X - x_line)**2 + (Y - y_line)**2 + (Z - z_line)**2)


phi = 1/norm_r


fig,ax = plt.subplots(figsize=(6,5))

cm = ax.contourf(X,Y,phi,50,cmap='RdBu_r',extend='both')
fig.colorbar(cm, ax=ax,shrink=1.0,aspect=40,pad=0.02)
ax.set_title('Potential Phi')
ax.set_xlabel('x')
ax.set_ylabel('y')

plt.show()








phi_xx = ((3*(X - x_line)**2) - norm_r**2)/norm_r**5


phi_yy = ((3*(Y - y_line)**2) - norm_r**2)/norm_r**5


phi_zz = ((3*(Z - z_line)**2) - norm_r**2)/norm_r**5


tol = 1e-14


np.all(phi_xx + phi_yy + phi_zz < tol) 



