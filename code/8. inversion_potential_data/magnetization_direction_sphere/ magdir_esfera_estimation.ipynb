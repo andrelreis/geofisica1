{
 "cells": [
  {
   "cell_type": "markdown",
   "metadata": {},
   "source": [
    "# Direção de magnetização de corpos aproximadamente esféricos"
   ]
  },
  {
   "cell_type": "markdown",
   "metadata": {},
   "source": [
    "## Importando as bibliotecas"
   ]
  },
  {
   "cell_type": "code",
   "execution_count": 1,
   "metadata": {},
   "outputs": [],
   "source": [
    "import numpy as np\n",
    "import matplotlib.pyplot as plt"
   ]
  },
  {
   "cell_type": "code",
   "execution_count": 2,
   "metadata": {},
   "outputs": [],
   "source": [
    "import sphere_mag"
   ]
  },
  {
   "cell_type": "code",
   "execution_count": 3,
   "metadata": {},
   "outputs": [],
   "source": [
    "import prism_mag"
   ]
  },
  {
   "cell_type": "code",
   "execution_count": 4,
   "metadata": {},
   "outputs": [],
   "source": [
    "import sphere_kernels"
   ]
  },
  {
   "cell_type": "code",
   "execution_count": 5,
   "metadata": {},
   "outputs": [],
   "source": [
    "plt.style.use('seaborn-v0_8')"
   ]
  },
  {
   "cell_type": "markdown",
   "metadata": {},
   "source": [
    "## Gerando as coordenadas de observação"
   ]
  },
  {
   "cell_type": "code",
   "execution_count": 6,
   "metadata": {},
   "outputs": [],
   "source": [
    "Nx = 100\n",
    "Ny = 50\n",
    "area = [-1000.,1000.,-1000.,1000.]\n",
    "shape = (Nx,Ny)"
   ]
  },
  {
   "cell_type": "code",
   "execution_count": 7,
   "metadata": {},
   "outputs": [],
   "source": [
    "x = np.linspace(area[0],area[1],num=Nx)\n",
    "y = np.linspace(area[2],area[3],num=Ny) \n",
    "yc,xc = np.meshgrid(y,x)"
   ]
  },
  {
   "cell_type": "code",
   "execution_count": 8,
   "metadata": {},
   "outputs": [],
   "source": [
    "voo = -100.\n",
    "zc = voo*np.ones_like(xc)"
   ]
  },
  {
   "cell_type": "code",
   "execution_count": 9,
   "metadata": {},
   "outputs": [],
   "source": [
    "coordenadas = np.array([yc.ravel(),xc.ravel(),zc.ravel()])"
   ]
  },
  {
   "cell_type": "markdown",
   "metadata": {},
   "source": [
    "## Gerando os parâmetros do prisma"
   ]
  },
  {
   "cell_type": "code",
   "execution_count": 10,
   "metadata": {},
   "outputs": [],
   "source": [
    "intensidades = np.array([50.])"
   ]
  },
  {
   "cell_type": "code",
   "execution_count": 11,
   "metadata": {},
   "outputs": [],
   "source": [
    "direcoes = np.array([[-40.,-50.]])"
   ]
  },
  {
   "cell_type": "code",
   "execution_count": 12,
   "metadata": {},
   "outputs": [],
   "source": [
    "modelo = np.array([[-100,100,-100,100,200,400]])"
   ]
  },
  {
   "cell_type": "markdown",
   "metadata": {},
   "source": [
    "## Cálculo das componentes o campo magnético"
   ]
  },
  {
   "cell_type": "code",
   "execution_count": null,
   "metadata": {},
   "outputs": [],
   "source": [
    "bz = prism_mag.magnetics(coordenadas,modelo,intensidades,direcoes,field=\"b_z\")"
   ]
  },
  {
   "cell_type": "code",
   "execution_count": null,
   "metadata": {},
   "outputs": [],
   "source": [
    "bx = prism_mag.magnetics(coordenadas,modelo,intensidades,direcoes,field=\"b_x\")"
   ]
  },
  {
   "cell_type": "code",
   "execution_count": null,
   "metadata": {},
   "outputs": [],
   "source": [
    "by = prism_mag.magnetics(coordenadas,modelo,intensidades,direcoes,field=\"b_y\")"
   ]
  },
  {
   "cell_type": "markdown",
   "metadata": {},
   "source": [
    "### Anomalia de campo total aproximada"
   ]
  },
  {
   "cell_type": "code",
   "execution_count": null,
   "metadata": {},
   "outputs": [],
   "source": [
    "I0,D0 = -20.,-20.\n",
    "j0x = np.cos(np.deg2rad(I0))*np.cos(np.deg2rad(D0))\n",
    "j0y = np.cos(np.deg2rad(I0))*np.sin(np.deg2rad(D0))\n",
    "j0z = np.sin(np.deg2rad(I0))\n",
    "tfa = j0x*bx + j0y*by + j0z*bz"
   ]
  },
  {
   "cell_type": "markdown",
   "metadata": {},
   "source": [
    "### Gerando um conjunto de dados observados com ruído Gaussiano"
   ]
  },
  {
   "cell_type": "code",
   "execution_count": null,
   "metadata": {},
   "outputs": [],
   "source": [
    "np.random.seed(seed=40)\n",
    "std_noise = 0.03*np.max(np.abs(tfa))\n",
    "\n",
    "r = np.random.normal(0.0, std_noise, tfa.size)\n",
    "\n",
    "print ('%.3f nT' % std_noise)"
   ]
  },
  {
   "cell_type": "code",
   "execution_count": null,
   "metadata": {},
   "outputs": [],
   "source": [
    "tfa_obs = tfa + r"
   ]
  },
  {
   "cell_type": "markdown",
   "metadata": {},
   "source": [
    "## Visualização dos dados calculados "
   ]
  },
  {
   "cell_type": "code",
   "execution_count": null,
   "metadata": {},
   "outputs": [],
   "source": [
    "title_font = 16\n",
    "bottom_font = 15\n",
    "plt.close('all')\n",
    "plt.figure(figsize=(6,6), tight_layout=True)\n",
    "\n",
    "plt.xlabel('easting (km)', fontsize = title_font)\n",
    "plt.ylabel('northing (km)', fontsize = title_font)\n",
    "plt.title('Observed TFA (nT)', fontsize=title_font)\n",
    "plt.contourf(1e-3*yc,1e-3*xc,tfa_obs.reshape(shape),100,cmap='jet')\n",
    "plt.tick_params(axis='both', which='major', labelsize=bottom_font)\n",
    "cb = plt.colorbar(pad=0.01, aspect=40, shrink=1.0)\n",
    "cb.ax.tick_params(labelsize=bottom_font)\n",
    "\n",
    "file_name = 'images/observed_TFA'\n",
    "plt.savefig(file_name+'.png',dpi=300)\n",
    "\n",
    "plt.show()"
   ]
  },
  {
   "cell_type": "markdown",
   "metadata": {},
   "source": [
    "## Resolvendo o problema inverso de estimar a direção de magnetização de uma esfera"
   ]
  },
  {
   "cell_type": "code",
   "execution_count": null,
   "metadata": {},
   "outputs": [],
   "source": [
    "main_field = np.array([-20.,-20.])\n",
    "model = np.array([[0.,0.,300.,10.]])"
   ]
  },
  {
   "cell_type": "code",
   "execution_count": null,
   "metadata": {},
   "outputs": [],
   "source": [
    "G = sphere_kernels.sensitivity(coordenadas,model,main_field)"
   ]
  },
  {
   "cell_type": "code",
   "execution_count": null,
   "metadata": {},
   "outputs": [],
   "source": [
    "G.shape"
   ]
  },
  {
   "cell_type": "code",
   "execution_count": null,
   "metadata": {},
   "outputs": [],
   "source": [
    "p = np.linalg.solve(np.dot(G.T,G),np.dot(G.T,tfa_obs))"
   ]
  },
  {
   "cell_type": "code",
   "execution_count": null,
   "metadata": {},
   "outputs": [],
   "source": [
    "p.shape"
   ]
  },
  {
   "cell_type": "markdown",
   "metadata": {},
   "source": [
    "### Análise dos resultados da inversão"
   ]
  },
  {
   "cell_type": "code",
   "execution_count": null,
   "metadata": {},
   "outputs": [],
   "source": [
    "mx,my,mz = p"
   ]
  },
  {
   "cell_type": "code",
   "execution_count": null,
   "metadata": {},
   "outputs": [],
   "source": [
    "intensity = np.sqrt(mx*mx + my*my + mz*mz)\n",
    "r2d = 180. / np.pi\n",
    "D = r2d*np.arctan2(my,mx)\n",
    "I = r2d*np.arctan2(mz,np.sqrt(mx*mx + my*my))"
   ]
  },
  {
   "cell_type": "code",
   "execution_count": null,
   "metadata": {},
   "outputs": [],
   "source": [
    "print ('Intensity = %.2f A/m' % intensity )\n",
    "print ('Inclination = %.2f degrees' % I )\n",
    "print ('Declination = %.2f degrees' % D )"
   ]
  },
  {
   "cell_type": "code",
   "execution_count": null,
   "metadata": {},
   "outputs": [],
   "source": [
    "intensidade_estimada = np.array([intensity])\n",
    "direcao_estimada = np.array([[I,D]])"
   ]
  },
  {
   "cell_type": "code",
   "execution_count": null,
   "metadata": {},
   "outputs": [],
   "source": [
    "bz_pred = sphere_mag.magnetics(coordenadas,model,intensidade_estimada,direcao_estimada,field=\"b_z\")\n",
    "by_pred = sphere_mag.magnetics(coordenadas,model,intensidade_estimada,direcao_estimada,field=\"b_y\")\n",
    "bx_pred = sphere_mag.magnetics(coordenadas,model,intensidade_estimada,direcao_estimada,field=\"b_x\")"
   ]
  },
  {
   "cell_type": "code",
   "execution_count": null,
   "metadata": {},
   "outputs": [],
   "source": [
    "I0,D0 = -20.,-20.\n",
    "j0x = np.cos(np.deg2rad(I0))*np.cos(np.deg2rad(D0))\n",
    "j0y = np.cos(np.deg2rad(I0))*np.sin(np.deg2rad(D0))\n",
    "j0z = np.sin(np.deg2rad(I0))\n",
    "tfa_pred = j0x*bx_pred + j0y*by_pred + j0z*bz_pred"
   ]
  },
  {
   "cell_type": "code",
   "execution_count": null,
   "metadata": {},
   "outputs": [],
   "source": [
    "residuals = tfa_obs - tfa_pred\n",
    "mean = np.mean(residuals)\n",
    "std_deviation = np.std(residuals)"
   ]
  },
  {
   "cell_type": "markdown",
   "metadata": {},
   "source": [
    "### Comparando dado observado com dado predito"
   ]
  },
  {
   "cell_type": "code",
   "execution_count": null,
   "metadata": {},
   "outputs": [],
   "source": [
    "title_font = 16\n",
    "bottom_font = 15\n",
    "plt.close('all')\n",
    "plt.figure(figsize=(12,12), tight_layout=True)\n",
    "\n",
    "plt.subplot(2,2,1)\n",
    "plt.xlabel('easting (km)', fontsize = title_font)\n",
    "plt.ylabel('northing (km)', fontsize = title_font)\n",
    "plt.title('Observed TFA (nT)', fontsize=title_font)\n",
    "plt.contourf(1e-3*yc,1e-3*xc,tfa_obs.reshape(shape),100,cmap='jet')\n",
    "plt.tick_params(axis='both', which='major', labelsize=bottom_font)\n",
    "cb = plt.colorbar(pad=0.01, aspect=40, shrink=1.0)\n",
    "cb.ax.tick_params(labelsize=bottom_font)\n",
    "\n",
    "plt.subplot(2,2,2)\n",
    "plt.xlabel('easting (km)', fontsize = title_font)\n",
    "plt.ylabel('northing (km)', fontsize = title_font)\n",
    "plt.title('Predicted TFA (nT)', fontsize=title_font)\n",
    "plt.contourf(1e-3*yc,1e-3*xc,tfa_pred.reshape(shape),100,cmap='jet')\n",
    "plt.tick_params(axis='both', which='major', labelsize=bottom_font)\n",
    "cb = plt.colorbar(pad=0.01, aspect=40, shrink=1.0)\n",
    "cb.ax.tick_params(labelsize=bottom_font)\n",
    "\n",
    "plt.subplot(2,2,3)\n",
    "plt.xlabel('easting (km)', fontsize = title_font)\n",
    "plt.ylabel('northing (km)', fontsize = title_font)\n",
    "plt.title('Residuals (nT)', fontsize=title_font)\n",
    "plt.contourf(1e-3*yc,1e-3*xc,residuals.reshape(shape),100,cmap='jet')\n",
    "plt.tick_params(axis='both', which='major', labelsize=bottom_font)\n",
    "cb = plt.colorbar(pad=0.01, aspect=40, shrink=1.0)\n",
    "cb.ax.tick_params(labelsize=bottom_font)\n",
    "\n",
    "plt.subplot(2,2,4)\n",
    "n, bins, patches = plt.hist(residuals, 50, density=True, facecolor='g', alpha=0.75)\n",
    "plt.xlabel('Residuals (mu = %.1f | std = %.1f nT)' % (mean,std_deviation),fontsize = title_font)\n",
    "plt.ylabel('Frequency',fontsize = title_font)\n",
    "plt.title('Histogram of residuals',fontsize = title_font)\n",
    "plt.grid(True)\n",
    "\n",
    "file_name = 'images/data_fitting'\n",
    "plt.savefig(file_name+'.png',dpi=300)\n",
    "plt.tight_layout(pad=6.)\n",
    "\n",
    "plt.show()"
   ]
  },
  {
   "cell_type": "code",
   "execution_count": null,
   "metadata": {},
   "outputs": [],
   "source": []
  }
 ],
 "metadata": {
  "kernelspec": {
   "display_name": "Python 3 (ipykernel)",
   "language": "python",
   "name": "python3"
  },
  "language_info": {
   "codemirror_mode": {
    "name": "ipython",
    "version": 3
   },
   "file_extension": ".py",
   "mimetype": "text/x-python",
   "name": "python",
   "nbconvert_exporter": "python",
   "pygments_lexer": "ipython3",
   "version": "3.11.5"
  }
 },
 "nbformat": 4,
 "nbformat_minor": 4
}
