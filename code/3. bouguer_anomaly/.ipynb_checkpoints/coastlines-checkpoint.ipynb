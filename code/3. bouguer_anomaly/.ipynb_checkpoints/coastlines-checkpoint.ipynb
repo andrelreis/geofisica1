{
 "cells": [
  {
   "cell_type": "markdown",
   "metadata": {},
   "source": [
    "\n",
    "# Coastlines and borders\n",
    "\n",
    "Plotting coastlines and borders is handled by :meth:`pygmt.Figure.coast`.\n"
   ]
  },
  {
   "cell_type": "code",
   "execution_count": 1,
   "metadata": {},
   "outputs": [
    {
     "ename": "GMTCLibNotFoundError",
     "evalue": "Error loading GMT shared library at '/home/andrelreis/anaconda3/envs/pygmt/lib/libgmt.so'.\n/home/andrelreis/anaconda3/lib/python3.9/site-packages/zmq/backend/cython/../../../../.././libstdc++.so.6: version `GLIBCXX_3.4.30' not found (required by /home/andrelreis/anaconda3/envs/pygmt/lib/./libgdal.so.33)\nError loading GMT shared library at 'libgmt.so'.\nlibgmt.so: cannot open shared object file: No such file or directory",
     "output_type": "error",
     "traceback": [
      "\u001b[0;31m---------------------------------------------------------------------------\u001b[0m",
      "\u001b[0;31mGMTCLibNotFoundError\u001b[0m                      Traceback (most recent call last)",
      "Cell \u001b[0;32mIn[1], line 1\u001b[0m\n\u001b[0;32m----> 1\u001b[0m \u001b[38;5;28;01mimport\u001b[39;00m \u001b[38;5;21;01mpygmt\u001b[39;00m\n",
      "File \u001b[0;32m~/anaconda3/lib/python3.9/site-packages/pygmt/__init__.py:29\u001b[0m\n\u001b[1;32m     27\u001b[0m __version__ \u001b[38;5;241m=\u001b[39m \u001b[38;5;124mf\u001b[39m\u001b[38;5;124m'\u001b[39m\u001b[38;5;124mv\u001b[39m\u001b[38;5;132;01m{\u001b[39;00mversion(\u001b[38;5;124m\"\u001b[39m\u001b[38;5;124mpygmt\u001b[39m\u001b[38;5;124m\"\u001b[39m)\u001b[38;5;132;01m}\u001b[39;00m\u001b[38;5;124m'\u001b[39m  \u001b[38;5;66;03m# e.g. v0.1.2.dev3+g0ab3cd78\u001b[39;00m\n\u001b[1;32m     28\u001b[0m __commit__ \u001b[38;5;241m=\u001b[39m __version__\u001b[38;5;241m.\u001b[39msplit(\u001b[38;5;124m\"\u001b[39m\u001b[38;5;124m+g\u001b[39m\u001b[38;5;124m\"\u001b[39m)[\u001b[38;5;241m-\u001b[39m\u001b[38;5;241m1\u001b[39m] \u001b[38;5;28;01mif\u001b[39;00m \u001b[38;5;124m\"\u001b[39m\u001b[38;5;124m+g\u001b[39m\u001b[38;5;124m\"\u001b[39m \u001b[38;5;129;01min\u001b[39;00m __version__ \u001b[38;5;28;01melse\u001b[39;00m \u001b[38;5;124m\"\u001b[39m\u001b[38;5;124m\"\u001b[39m  \u001b[38;5;66;03m# 0ab3cd78\u001b[39;00m\n\u001b[0;32m---> 29\u001b[0m \u001b[38;5;28;01mwith\u001b[39;00m clib\u001b[38;5;241m.\u001b[39mSession() \u001b[38;5;28;01mas\u001b[39;00m lib:\n\u001b[1;32m     30\u001b[0m     __gmt_version__ \u001b[38;5;241m=\u001b[39m lib\u001b[38;5;241m.\u001b[39minfo[\u001b[38;5;124m\"\u001b[39m\u001b[38;5;124mversion\u001b[39m\u001b[38;5;124m\"\u001b[39m]\n\u001b[1;32m     32\u001b[0m \u001b[38;5;66;03m# Import modules to make the high-level GMT Python API\u001b[39;00m\n",
      "File \u001b[0;32m~/anaconda3/lib/python3.9/site-packages/pygmt/clib/session.py:217\u001b[0m, in \u001b[0;36mSession.__enter__\u001b[0;34m(self)\u001b[0m\n\u001b[1;32m    204\u001b[0m \u001b[38;5;28;01mdef\u001b[39;00m \u001b[38;5;21m__enter__\u001b[39m(\u001b[38;5;28mself\u001b[39m):\n\u001b[1;32m    205\u001b[0m \u001b[38;5;250m    \u001b[39m\u001b[38;5;124;03m\"\"\"\u001b[39;00m\n\u001b[1;32m    206\u001b[0m \u001b[38;5;124;03m    Create a GMT API session and check the libgmt version.\u001b[39;00m\n\u001b[1;32m    207\u001b[0m \n\u001b[0;32m   (...)\u001b[0m\n\u001b[1;32m    215\u001b[0m \u001b[38;5;124;03m        raising the exception.\u001b[39;00m\n\u001b[1;32m    216\u001b[0m \u001b[38;5;124;03m    \"\"\"\u001b[39;00m\n\u001b[0;32m--> 217\u001b[0m     \u001b[38;5;28;43mself\u001b[39;49m\u001b[38;5;241;43m.\u001b[39;49m\u001b[43mcreate\u001b[49m\u001b[43m(\u001b[49m\u001b[38;5;124;43m\"\u001b[39;49m\u001b[38;5;124;43mpygmt-session\u001b[39;49m\u001b[38;5;124;43m\"\u001b[39;49m\u001b[43m)\u001b[49m\n\u001b[1;32m    218\u001b[0m     \u001b[38;5;66;03m# Need to store the version info because 'get_default' won't work after\u001b[39;00m\n\u001b[1;32m    219\u001b[0m     \u001b[38;5;66;03m# the session is destroyed.\u001b[39;00m\n\u001b[1;32m    220\u001b[0m     version \u001b[38;5;241m=\u001b[39m \u001b[38;5;28mself\u001b[39m\u001b[38;5;241m.\u001b[39minfo[\u001b[38;5;124m\"\u001b[39m\u001b[38;5;124mversion\u001b[39m\u001b[38;5;124m\"\u001b[39m]\n",
      "File \u001b[0;32m~/anaconda3/lib/python3.9/site-packages/pygmt/clib/session.py:364\u001b[0m, in \u001b[0;36mSession.create\u001b[0;34m(self, name)\u001b[0m\n\u001b[1;32m    361\u001b[0m \u001b[38;5;28;01mexcept\u001b[39;00m GMTCLibNoSessionError:\n\u001b[1;32m    362\u001b[0m     \u001b[38;5;28;01mpass\u001b[39;00m\n\u001b[0;32m--> 364\u001b[0m c_create_session \u001b[38;5;241m=\u001b[39m \u001b[38;5;28;43mself\u001b[39;49m\u001b[38;5;241;43m.\u001b[39;49m\u001b[43mget_libgmt_func\u001b[49m\u001b[43m(\u001b[49m\n\u001b[1;32m    365\u001b[0m \u001b[43m    \u001b[49m\u001b[38;5;124;43m\"\u001b[39;49m\u001b[38;5;124;43mGMT_Create_Session\u001b[39;49m\u001b[38;5;124;43m\"\u001b[39;49m\u001b[43m,\u001b[49m\n\u001b[1;32m    366\u001b[0m \u001b[43m    \u001b[49m\u001b[43margtypes\u001b[49m\u001b[38;5;241;43m=\u001b[39;49m\u001b[43m[\u001b[49m\u001b[43mctp\u001b[49m\u001b[38;5;241;43m.\u001b[39;49m\u001b[43mc_char_p\u001b[49m\u001b[43m,\u001b[49m\u001b[43m \u001b[49m\u001b[43mctp\u001b[49m\u001b[38;5;241;43m.\u001b[39;49m\u001b[43mc_uint\u001b[49m\u001b[43m,\u001b[49m\u001b[43m \u001b[49m\u001b[43mctp\u001b[49m\u001b[38;5;241;43m.\u001b[39;49m\u001b[43mc_uint\u001b[49m\u001b[43m,\u001b[49m\u001b[43m \u001b[49m\u001b[43mctp\u001b[49m\u001b[38;5;241;43m.\u001b[39;49m\u001b[43mc_void_p\u001b[49m\u001b[43m]\u001b[49m\u001b[43m,\u001b[49m\n\u001b[1;32m    367\u001b[0m \u001b[43m    \u001b[49m\u001b[43mrestype\u001b[49m\u001b[38;5;241;43m=\u001b[39;49m\u001b[43mctp\u001b[49m\u001b[38;5;241;43m.\u001b[39;49m\u001b[43mc_void_p\u001b[49m\u001b[43m,\u001b[49m\n\u001b[1;32m    368\u001b[0m \u001b[43m\u001b[49m\u001b[43m)\u001b[49m\n\u001b[1;32m    370\u001b[0m \u001b[38;5;66;03m# Capture the output printed by GMT into this list. Will use it later\u001b[39;00m\n\u001b[1;32m    371\u001b[0m \u001b[38;5;66;03m# to generate error messages for the exceptions raised by API calls.\u001b[39;00m\n\u001b[1;32m    372\u001b[0m \u001b[38;5;28mself\u001b[39m\u001b[38;5;241m.\u001b[39m_error_log \u001b[38;5;241m=\u001b[39m []  \u001b[38;5;66;03m# pylint: disable=attribute-defined-outside-init\u001b[39;00m\n",
      "File \u001b[0;32m~/anaconda3/lib/python3.9/site-packages/pygmt/clib/session.py:316\u001b[0m, in \u001b[0;36mSession.get_libgmt_func\u001b[0;34m(self, name, argtypes, restype)\u001b[0m\n\u001b[1;32m    279\u001b[0m \u001b[38;5;250m\u001b[39m\u001b[38;5;124;03m\"\"\"\u001b[39;00m\n\u001b[1;32m    280\u001b[0m \u001b[38;5;124;03mGet a ctypes function from the libgmt shared library.\u001b[39;00m\n\u001b[1;32m    281\u001b[0m \n\u001b[0;32m   (...)\u001b[0m\n\u001b[1;32m    312\u001b[0m \u001b[38;5;124;03m<class 'ctypes.CDLL.__init__.<locals>._FuncPtr'>\u001b[39;00m\n\u001b[1;32m    313\u001b[0m \u001b[38;5;124;03m\"\"\"\u001b[39;00m\n\u001b[1;32m    314\u001b[0m \u001b[38;5;28;01mif\u001b[39;00m \u001b[38;5;129;01mnot\u001b[39;00m \u001b[38;5;28mhasattr\u001b[39m(\u001b[38;5;28mself\u001b[39m, \u001b[38;5;124m\"\u001b[39m\u001b[38;5;124m_libgmt\u001b[39m\u001b[38;5;124m\"\u001b[39m):\n\u001b[1;32m    315\u001b[0m     \u001b[38;5;66;03m# pylint: disable=attribute-defined-outside-init\u001b[39;00m\n\u001b[0;32m--> 316\u001b[0m     \u001b[38;5;28mself\u001b[39m\u001b[38;5;241m.\u001b[39m_libgmt \u001b[38;5;241m=\u001b[39m \u001b[43mload_libgmt\u001b[49m\u001b[43m(\u001b[49m\u001b[43m)\u001b[49m\n\u001b[1;32m    317\u001b[0m function \u001b[38;5;241m=\u001b[39m \u001b[38;5;28mgetattr\u001b[39m(\u001b[38;5;28mself\u001b[39m\u001b[38;5;241m.\u001b[39m_libgmt, name)\n\u001b[1;32m    318\u001b[0m \u001b[38;5;28;01mif\u001b[39;00m argtypes \u001b[38;5;129;01mis\u001b[39;00m \u001b[38;5;129;01mnot\u001b[39;00m \u001b[38;5;28;01mNone\u001b[39;00m:\n",
      "File \u001b[0;32m~/anaconda3/lib/python3.9/site-packages/pygmt/clib/loading.py:59\u001b[0m, in \u001b[0;36mload_libgmt\u001b[0;34m(lib_fullnames)\u001b[0m\n\u001b[1;32m     56\u001b[0m         failing_libs\u001b[38;5;241m.\u001b[39mappend(libname)\n\u001b[1;32m     58\u001b[0m \u001b[38;5;28;01mif\u001b[39;00m error:\n\u001b[0;32m---> 59\u001b[0m     \u001b[38;5;28;01mraise\u001b[39;00m GMTCLibNotFoundError(\u001b[38;5;124m\"\u001b[39m\u001b[38;5;130;01m\\n\u001b[39;00m\u001b[38;5;124m\"\u001b[39m\u001b[38;5;241m.\u001b[39mjoin(error_msg))\n\u001b[1;32m     61\u001b[0m \u001b[38;5;28;01mreturn\u001b[39;00m libgmt\n",
      "\u001b[0;31mGMTCLibNotFoundError\u001b[0m: Error loading GMT shared library at '/home/andrelreis/anaconda3/envs/pygmt/lib/libgmt.so'.\n/home/andrelreis/anaconda3/lib/python3.9/site-packages/zmq/backend/cython/../../../../.././libstdc++.so.6: version `GLIBCXX_3.4.30' not found (required by /home/andrelreis/anaconda3/envs/pygmt/lib/./libgdal.so.33)\nError loading GMT shared library at 'libgmt.so'.\nlibgmt.so: cannot open shared object file: No such file or directory"
     ]
    }
   ],
   "source": [
    "import pygmt"
   ]
  },
  {
   "cell_type": "markdown",
   "metadata": {},
   "source": [
    "## Shorelines\n",
    "\n",
    "Use the ``shorelines`` parameter to plot only the shorelines:\n",
    "\n"
   ]
  },
  {
   "cell_type": "code",
   "execution_count": null,
   "metadata": {},
   "outputs": [],
   "source": [
    "fig = pygmt.Figure()\n",
    "fig.basemap(region=\"g\", projection=\"W15c\", frame=True)\n",
    "fig.coast(shorelines=True)\n",
    "fig.show()"
   ]
  },
  {
   "cell_type": "markdown",
   "metadata": {},
   "source": [
    "The shorelines are divided in 4 levels:\n",
    "\n",
    "1. coastline\n",
    "2. lakeshore\n",
    "3. island-in-lake shore\n",
    "4. lake-in-island-in-lake shore\n",
    "\n",
    "You can specify which level you want to plot by passing the level number and\n",
    "a GMT pen configuration. For example, to plot just the coastlines with 0.5p\n",
    "thickness and black lines:\n",
    "\n"
   ]
  },
  {
   "cell_type": "code",
   "execution_count": null,
   "metadata": {},
   "outputs": [],
   "source": [
    "fig = pygmt.Figure()\n",
    "fig.basemap(region=\"g\", projection=\"W15c\", frame=True)\n",
    "fig.coast(shorelines=\"1/0.5p,black\")\n",
    "fig.show()"
   ]
  },
  {
   "cell_type": "markdown",
   "metadata": {},
   "source": [
    "You can specify multiple levels (with their own pens) by passing a list to\n",
    "``shorelines``:\n",
    "\n"
   ]
  },
  {
   "cell_type": "code",
   "execution_count": null,
   "metadata": {},
   "outputs": [],
   "source": [
    "fig = pygmt.Figure()\n",
    "fig.basemap(region=\"g\", projection=\"W15c\", frame=True)\n",
    "fig.coast(shorelines=[\"1/1p,black\", \"2/0.5p,red\"])\n",
    "fig.show()"
   ]
  },
  {
   "cell_type": "markdown",
   "metadata": {},
   "source": [
    "## Resolutions\n",
    "\n",
    "The coastline database comes with 5 resolutions. The resolution drops by 80%\n",
    "between levels:\n",
    "\n",
    "1. ``\"c\"``: crude\n",
    "2. ``\"l\"``: low (default)\n",
    "3. ``\"i\"``: intermediate\n",
    "4. ``\"h\"``: high\n",
    "5. ``\"f\"``: full\n",
    "\n"
   ]
  },
  {
   "cell_type": "code",
   "execution_count": null,
   "metadata": {},
   "outputs": [],
   "source": [
    "oahu = [-158.3, -157.6, 21.2, 21.8]\n",
    "fig = pygmt.Figure()\n",
    "for res in [\"c\", \"l\", \"i\", \"h\", \"f\"]:\n",
    "    fig.coast(resolution=res, shorelines=\"1p\", region=oahu, projection=\"M5c\")\n",
    "    fig.shift_origin(xshift=\"5c\")\n",
    "fig.show()"
   ]
  },
  {
   "cell_type": "markdown",
   "metadata": {},
   "source": [
    "## Land and water\n",
    "\n",
    "Use the ``land`` and ``water`` parameters to specify a fill color for land\n",
    "and water bodies. The colors can be given by name or hex codes (like the ones\n",
    "used in HTML and CSS):\n",
    "\n"
   ]
  },
  {
   "cell_type": "code",
   "execution_count": null,
   "metadata": {},
   "outputs": [],
   "source": [
    "fig = pygmt.Figure()\n",
    "fig.basemap(region=\"g\", projection=\"W15c\", frame=True)\n",
    "fig.coast(land=\"#666666\", water=\"skyblue\")\n",
    "fig.show()"
   ]
  }
 ],
 "metadata": {
  "kernelspec": {
   "display_name": "Python 3 (ipykernel)",
   "language": "python",
   "name": "python3"
  },
  "language_info": {
   "codemirror_mode": {
    "name": "ipython",
    "version": 3
   },
   "file_extension": ".py",
   "mimetype": "text/x-python",
   "name": "python",
   "nbconvert_exporter": "python",
   "pygments_lexer": "ipython3",
   "version": "3.9.18"
  }
 },
 "nbformat": 4,
 "nbformat_minor": 1
}
