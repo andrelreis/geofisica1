{
 "cells": [
  {
   "cell_type": "markdown",
   "metadata": {},
   "source": [
    "# Retirada do efeito de fontes regionais\n",
    "\n",
    "Notebook que demonstrará a retirada do efeito de fontes regionais profundas"
   ]
  },
  {
   "cell_type": "markdown",
   "metadata": {},
   "source": [
    "# Importando bibliotecas"
   ]
  },
  {
   "cell_type": "markdown",
   "metadata": {},
   "source": [
    "Importando as bibliotecas que serão utilizadas para manipulação e visualização dos dados de gravidade."
   ]
  },
  {
   "cell_type": "code",
   "execution_count": null,
   "metadata": {},
   "outputs": [],
   "source": [
    "import numpy as np\n",
    "import matplotlib.pyplot as plt\n",
    "import harmonica as hm\n",
    "import cartopy.crs as ccrs\n",
    "import matplotlib.colors as colors\n",
    "import boule as bl\n",
    "import pyproj\n",
    "import verde as vd"
   ]
  },
  {
   "cell_type": "markdown",
   "metadata": {},
   "source": [
    "# Carregando os dados"
   ]
  },
  {
   "cell_type": "code",
   "execution_count": null,
   "metadata": {},
   "outputs": [],
   "source": [
    "fname = 'dataset/gravity_earth_brazilian_coast.gdf'\n",
    "gravity = hm.load_icgem_gdf(fname)"
   ]
  },
  {
   "cell_type": "code",
   "execution_count": null,
   "metadata": {},
   "outputs": [],
   "source": [
    "fname = 'dataset/geoid_brazilian_coast.gdf'\n",
    "geoid = hm.load_icgem_gdf(fname)"
   ]
  },
  {
   "cell_type": "code",
   "execution_count": null,
   "metadata": {},
   "outputs": [],
   "source": [
    "fname = 'dataset/topography_brazilian_coast.gdf'\n",
    "topo = hm.load_icgem_gdf(fname)"
   ]
  },
  {
   "cell_type": "markdown",
   "metadata": {},
   "source": [
    "### Armazenando os dados em um array e manipulando os dados"
   ]
  },
  {
   "cell_type": "code",
   "execution_count": null,
   "metadata": {},
   "outputs": [],
   "source": [
    "lat = gravity.latitude\n",
    "lon = gravity.longitude\n",
    "elevation = gravity.h_over_geoid\n",
    "data = gravity.gravity_earth\n",
    "geoidal_height = geoid.geoid\n",
    "topography = topo.topography_shm"
   ]
  },
  {
   "cell_type": "code",
   "execution_count": null,
   "metadata": {},
   "outputs": [],
   "source": [
    "longitude, latitude = np.meshgrid(lon.values,lat.values)"
   ]
  },
  {
   "cell_type": "code",
   "execution_count": null,
   "metadata": {},
   "outputs": [],
   "source": [
    "field = data.values.reshape(longitude.shape)"
   ]
  },
  {
   "cell_type": "markdown",
   "metadata": {},
   "source": [
    "# Gravidade real (Costa Brasileira)"
   ]
  },
  {
   "cell_type": "code",
   "execution_count": null,
   "metadata": {},
   "outputs": [],
   "source": [
    "fig = plt.figure(figsize=[6,6])\n",
    "\n",
    "ax = fig.add_subplot(projection=ccrs.PlateCarree())\n",
    "ax.set_title('Gravity (Brazilian Coast)',fontsize=15)\n",
    "ax.coastlines(linewidth=0.5)\n",
    "ax.set_extent([309.38, 329.03, -29.231, -13.831], ccrs.PlateCarree())\n",
    "gd = ax.gridlines(visible=None,draw_labels=True, dms=False, x_inline=False, y_inline=False)\n",
    "gd.top_labels = False\n",
    "gd.right_labels = False\n",
    "\n",
    "cmap = ax.contourf(longitude,latitude,field,\n",
    "                   100,transform=ccrs.PlateCarree(),\n",
    "                   cmap='viridis')\n",
    "\n",
    "cbar = fig.colorbar(cmap,orientation='vertical',pad=0.02,aspect=50,spacing='uniform',ax=ax,fraction=0.011)\n",
    "cbar.set_label('mGal',fontsize=10)\n",
    "\n",
    "plt.savefig('images/gravity_earth_brazil_coast.png',dpi=200,bbox_inches='tight')\n",
    "\n",
    "plt.show()"
   ]
  },
  {
   "cell_type": "markdown",
   "metadata": {},
   "source": [
    "# Gravidade Normal sobre a superfície terrestre"
   ]
  },
  {
   "cell_type": "code",
   "execution_count": null,
   "metadata": {},
   "outputs": [],
   "source": [
    "normal_gravity = bl.WGS84.normal_gravity(latitude, elevation)"
   ]
  },
  {
   "cell_type": "code",
   "execution_count": null,
   "metadata": {},
   "outputs": [],
   "source": [
    "fig = plt.figure(figsize=[6,6])\n",
    "\n",
    "ax = fig.add_subplot(projection=ccrs.PlateCarree())\n",
    "ax.set_title('Normal gravity (Brazilian Coast)',fontsize=15)\n",
    "ax.coastlines(linewidth=0.5)\n",
    "ax.set_extent([309.38, 329.03, -29.231, -13.831], ccrs.PlateCarree())\n",
    "gd = ax.gridlines(visible=None,draw_labels=True, dms=False, x_inline=False, y_inline=False)\n",
    "gd.top_labels = False\n",
    "gd.right_labels = False\n",
    "\n",
    "cmap = ax.contourf(longitude,latitude,normal_gravity,\n",
    "                   100,transform=ccrs.PlateCarree(),\n",
    "                   cmap='viridis')\n",
    "\n",
    "cbar = fig.colorbar(cmap,orientation='vertical',pad=0.02,aspect=50,spacing='uniform',ax=ax,fraction=0.011)\n",
    "cbar.set_label('mGal',fontsize=10)\n",
    "\n",
    "plt.savefig('images/normal_gravity_brazil_coast.png',dpi=200,bbox_inches='tight')\n",
    "plt.show()"
   ]
  },
  {
   "cell_type": "markdown",
   "metadata": {},
   "source": [
    "# Distúrbio de gravidade "
   ]
  },
  {
   "cell_type": "code",
   "execution_count": null,
   "metadata": {},
   "outputs": [],
   "source": [
    "disturbance = field - normal_gravity"
   ]
  },
  {
   "cell_type": "code",
   "execution_count": null,
   "metadata": {},
   "outputs": [],
   "source": [
    "fig = plt.figure(figsize=[6,6])\n",
    "\n",
    "ax = fig.add_subplot(projection=ccrs.PlateCarree())\n",
    "ax.set_title('Gravity Disturbance (Brazilian Coast)',fontsize=15)\n",
    "ax.coastlines(linewidth=0.5)\n",
    "ax.set_extent([309.38, 329.03, -29.231, -13.831], ccrs.PlateCarree())\n",
    "gd = ax.gridlines(visible=None,draw_labels=True, dms=False, x_inline=False, y_inline=False)\n",
    "gd.top_labels = False\n",
    "gd.right_labels = False\n",
    "\n",
    "cmap = ax.contourf(lon,lat,disturbance,\n",
    "                   100,transform=ccrs.PlateCarree(),\n",
    "                   norm=colors.CenteredNorm(),\n",
    "                   cmap='RdBu_r')\n",
    "\n",
    "cbar = fig.colorbar(cmap,orientation='vertical',pad=0.02,aspect=50,spacing='uniform',ax=ax,fraction=0.011)\n",
    "cbar.set_label('mGal',fontsize=10)\n",
    "\n",
    "plt.savefig('images/disturbance_brazil_coast.png',dpi=200,bbox_inches='tight')\n",
    "\n",
    "plt.show()"
   ]
  },
  {
   "cell_type": "markdown",
   "metadata": {},
   "source": [
    "# Topografia"
   ]
  },
  {
   "cell_type": "code",
   "execution_count": null,
   "metadata": {},
   "outputs": [],
   "source": [
    "fig = plt.figure(figsize=[6,6])\n",
    "\n",
    "ax = fig.add_subplot(projection=ccrs.PlateCarree())\n",
    "ax.set_title('Topography (Brazilian Coast)',fontsize=15)\n",
    "ax.coastlines(linewidth=0.5)\n",
    "ax.set_extent([309.38, 329.03, -29.231, -13.831], ccrs.PlateCarree())\n",
    "gd = ax.gridlines(visible=None,draw_labels=True, dms=False, x_inline=False, y_inline=False)\n",
    "gd.top_labels = False\n",
    "gd.right_labels = False\n",
    "\n",
    "cmap = ax.contourf(longitude,latitude,topography,\n",
    "                   100,transform=ccrs.PlateCarree(),\n",
    "                   norm=colors.CenteredNorm(),\n",
    "                   cmap='terrain')\n",
    "\n",
    "cbar = fig.colorbar(cmap,orientation='vertical',pad=0.02,aspect=50,spacing='uniform',ax=ax,fraction=0.011)\n",
    "cbar.set_label('meters',fontsize=10)\n",
    "\n",
    "plt.savefig('images/topography_brazil_coast.png',dpi=200,bbox_inches='tight')\n",
    "\n",
    "plt.show()"
   ]
  },
  {
   "cell_type": "markdown",
   "metadata": {},
   "source": [
    "# Anomalia Bouguer"
   ]
  },
  {
   "cell_type": "code",
   "execution_count": null,
   "metadata": {},
   "outputs": [],
   "source": [
    "reference = geoidal_height + topography\n",
    "bouguer_correction = hm.bouguer_correction(reference)\n",
    "bouguer_anomaly = disturbance - bouguer_correction"
   ]
  },
  {
   "cell_type": "code",
   "execution_count": null,
   "metadata": {},
   "outputs": [],
   "source": [
    "fig = plt.figure(figsize=[6,6])\n",
    "\n",
    "ax = fig.add_subplot(projection=ccrs.PlateCarree())\n",
    "ax.set_title('Bouguer Anomaly (Brazilian Coast)',fontsize=15)\n",
    "ax.coastlines(linewidth=0.5)\n",
    "ax.set_extent([309.38, 329.03, -29.231, -13.831], ccrs.PlateCarree())\n",
    "gd = ax.gridlines(visible=None,draw_labels=True, dms=False, x_inline=False, y_inline=False)\n",
    "gd.top_labels = False\n",
    "gd.right_labels = False\n",
    "\n",
    "cmap = ax.contourf(longitude,latitude,bouguer_anomaly,\n",
    "                   100,transform=ccrs.PlateCarree(),\n",
    "                   norm=colors.CenteredNorm(),\n",
    "                   cmap='RdBu_r')\n",
    "\n",
    "cbar = fig.colorbar(cmap,orientation='vertical',pad=0.02,aspect=50,spacing='uniform',ax=ax,fraction=0.011)\n",
    "cbar.set_label('mGal',fontsize=10)\n",
    "\n",
    "plt.savefig('images/bouguer_brazil_coast.png',dpi=200,bbox_inches='tight')\n",
    "\n",
    "plt.show()"
   ]
  },
  {
   "cell_type": "markdown",
   "metadata": {},
   "source": [
    "# Retirando o efeito de fontes regionais profundas"
   ]
  },
  {
   "cell_type": "code",
   "execution_count": null,
   "metadata": {},
   "outputs": [],
   "source": [
    "heq = topography.values.copy()\n",
    "heq[heq < 0] *= (2670 - 1040)/2670"
   ]
  },
  {
   "cell_type": "code",
   "execution_count": null,
   "metadata": {},
   "outputs": [],
   "source": [
    "A = np.ones((heq.size, 2))\n",
    "A[:, 0] = heq.ravel()\n",
    "p = np.linalg.solve(A.T.dot(A), A.T.dot(bouguer_anomaly.values.ravel()))\n",
    "efeito_moho = A.dot(p)"
   ]
  },
  {
   "cell_type": "code",
   "execution_count": null,
   "metadata": {},
   "outputs": [],
   "source": [
    "fig,ax = plt.subplots(figsize=(6,6))\n",
    "\n",
    "ax.plot(heq.ravel(),bouguer_anomaly.values.ravel(),'.k')\n",
    "ax.plot(heq.ravel(),efeito_moho.ravel(),'-')\n",
    "ax.set_xlabel('Topografia equivalente (m)')\n",
    "ax.set_ylabel('Anomalia Bouguer (mGal)')\n",
    "\n",
    "plt.show()"
   ]
  },
  {
   "cell_type": "code",
   "execution_count": null,
   "metadata": {},
   "outputs": [],
   "source": [
    "residuals = bouguer_anomaly - efeito_moho.reshape(longitude.shape)"
   ]
  },
  {
   "cell_type": "code",
   "execution_count": null,
   "metadata": {},
   "outputs": [],
   "source": [
    "fig = plt.figure(figsize=[6,6])\n",
    "\n",
    "ax = fig.add_subplot(projection=ccrs.PlateCarree())\n",
    "ax.set_title('Bouguer Anomaly (w/o Moho effect)',fontsize=15)\n",
    "ax.coastlines(linewidth=0.5)\n",
    "ax.set_extent([309.38, 329.03, -29.231, -13.831], ccrs.PlateCarree())\n",
    "gd = ax.gridlines(visible=None,draw_labels=True, dms=False, x_inline=False, y_inline=False)\n",
    "gd.top_labels = False\n",
    "gd.right_labels = False\n",
    "\n",
    "cmap = ax.contourf(longitude,latitude,residuals,\n",
    "                   100,transform=ccrs.PlateCarree(),\n",
    "                   norm=colors.CenteredNorm(),\n",
    "                   cmap='seismic')\n",
    "\n",
    "cbar = fig.colorbar(cmap,orientation='vertical',pad=0.02,aspect=50,spacing='uniform',ax=ax,fraction=0.011)\n",
    "cbar.set_label('mGal',fontsize=10)\n",
    "\n",
    "plt.savefig('images/bouguer_without_moho.png',dpi=200,bbox_inches='tight')\n",
    "\n",
    "plt.show()"
   ]
  },
  {
   "cell_type": "code",
   "execution_count": null,
   "metadata": {},
   "outputs": [],
   "source": []
  }
 ],
 "metadata": {
  "kernelspec": {
   "display_name": "Python 3 (ipykernel)",
   "language": "python",
   "name": "python3"
  },
  "language_info": {
   "codemirror_mode": {
    "name": "ipython",
    "version": 3
   },
   "file_extension": ".py",
   "mimetype": "text/x-python",
   "name": "python",
   "nbconvert_exporter": "python",
   "pygments_lexer": "ipython3",
   "version": "3.12.7"
  }
 },
 "nbformat": 4,
 "nbformat_minor": 4
}
