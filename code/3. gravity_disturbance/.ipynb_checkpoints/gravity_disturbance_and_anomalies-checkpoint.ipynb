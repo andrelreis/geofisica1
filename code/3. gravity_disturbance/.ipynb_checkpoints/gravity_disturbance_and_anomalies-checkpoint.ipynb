{
 "cells": [
  {
   "cell_type": "markdown",
   "metadata": {},
   "source": [
    "# O Distúrbio de gravidade e outras anomalias\n",
    "\n",
    "Notebook que demonstrará o cálculo do distúrbio de gravidade e a anomalia bouguer"
   ]
  },
  {
   "cell_type": "markdown",
   "metadata": {},
   "source": [
    "## Gravidade real\n",
    "\n",
    "A gravidade medida é definida como o módulo da aceleração da gravidade em um determinado ponto próxima a superfície terrestre, que é igual ao módulo do gradiente do potencial de gravidade. O potencial de gravidade inclui duas componentes, uma componente gravitacional e outra centrífuga. A componente gravitacional é devido à atração gravitacional das massas que compõem a Terra e a componente centrífuga devido à rotação da terra. Matematicamente, isto é representado como:\n",
    "\n",
    "$$ W(P) = V(P) + \\Phi(P), $$\n",
    "em que $W(P)$ é o potencial de gravidade em um ponto P próximo a superfície terrestre, $V(P)$ é o potencial gravitacional e $\\Phi(P)$ é o potencial centrífugo. Portanto, o campo de gravidade terrestre é dado por:\n",
    "\n",
    "$$ \\mathbf{g}(P) = \\mathbf{\\nabla}V(P) + \\mathbf{\\nabla} \\Phi(P), $$\n",
    "que é o que chamamos de **vetor de gravidade**. O módulo deste vetor, ou seja, $ \\parallel \\mathbf{g}(P) \\parallel$ é o que chamamos de **gravidade**. A gravidade é dada em  $mGal$ (miligal), em que $ 1 \\, mGal = 10^5 \\, m/s^{2}$. "
   ]
  },
  {
   "cell_type": "markdown",
   "metadata": {},
   "source": [
    "## Campo de gravidade Normal\n",
    "\n",
    "Uma das formas de investigarmos as massas anômalas no interior da Terra é definindo um modelo que servirá de base para a definição das anomalias de gravidade. De fato, a Terra pode ser aproximada por um elipsóide de revolução (*i.e.,* um elipsóide oblato), que possui características semelhantes a Terra real. Neste sentido, chamamos o campo gerado por este modelo como **campo de gravidade normal**. Este campo seria observado em um elipsóide de referência que melhor aproxima a figura da Terra, que possui a mesma velocidade de rotação e mesma massa. De forma análoga a gravidade real, o campo de gravidade normal é gerado por um **potencial normal**, que também possui duas componentes: uma gravitacional e outra centrífuga. Portanto, o potencial que gera a gravidade normal pode ser definido como: \n",
    "\n",
    "$$ U(P) = V_{el} (P) + \\Phi(P), $$\n",
    "em que $U(P)$ é o potencial de gravidade normal, $V_{el} (P)$ é o potencial gravitacional e $\\Phi(P)$ é o potencial centrífugo. O **vetor gravidade normal** é, consequentemente, dado por:\n",
    "\n",
    "$$ \\mathbf{\\gamma} (P) = \\mathbf{\\nabla}V_{el}(P) + \\mathbf{\\nabla} \\Phi(P), $$\n",
    "no qual o módulo $\\parallel \\mathbf{\\gamma} (P) \\parallel$ é a gravidade normal. "
   ]
  },
  {
   "cell_type": "markdown",
   "metadata": {},
   "source": [
    "## Distúrbio de gravidade\n",
    "\n",
    "O distúrbio de gravidade é definido como a diferença entre a gravidade medida (real) e a gravidade produzida pelo elipsóide de referência (normal) em um mesmo ponto P. Neste sentido, o **vetor distúrbio de gravidade** pode ser definido como:\n",
    "\n",
    "$$ \\mathbf\\delta g (P) = \\mathbf{g} (P) - \\mathbf{\\gamma} (P), $$\n",
    "em que $\\delta g (P)$ é o distúrbio de gravidade, $g (P)$ é a gravidade medida e $\\gamma (P)$ é a gravidade normal. Os distúrbios de gravidade são os que permitem inferir sobre a estrutura interna da Terra. Esta quantidade potencial pode ser interpretada como o efeito gravitacional das massas anômalas no interior da Terra, ou seja, tudo o que não está contido na Terra normal. "
   ]
  },
  {
   "cell_type": "markdown",
   "metadata": {},
   "source": [
    "## Importando bibliotecas"
   ]
  },
  {
   "cell_type": "markdown",
   "metadata": {},
   "source": [
    "Importando as bibliotecas que serão utilizadas para manipulação e visualização dos dados de gravidade."
   ]
  },
  {
   "cell_type": "code",
   "execution_count": null,
   "metadata": {},
   "outputs": [],
   "source": [
    "import numpy as np\n",
    "import matplotlib.pyplot as plt\n",
    "import harmonica as hm\n",
    "import cartopy.crs as ccrs\n",
    "import matplotlib.colors as colors\n",
    "import boule as bl"
   ]
  },
  {
   "cell_type": "markdown",
   "metadata": {},
   "source": [
    "## Carregando os dados do modelo geopotencial XGM2019e"
   ]
  },
  {
   "cell_type": "markdown",
   "metadata": {},
   "source": [
    "Dados baixados do [*International Center for Global Earth Models* (ICGEM)](http://icgem.gfz-potsdam.de/home)."
   ]
  },
  {
   "cell_type": "code",
   "execution_count": null,
   "metadata": {},
   "outputs": [],
   "source": [
    "fname = 'dataset/earth_gravity_XGM2019e.gdf'\n",
    "gravity = hm.load_icgem_gdf(fname)"
   ]
  },
  {
   "cell_type": "code",
   "execution_count": null,
   "metadata": {},
   "outputs": [],
   "source": [
    "fname = 'dataset/geoid_XGM2019e.gdf'\n",
    "geoid = hm.load_icgem_gdf(fname)"
   ]
  },
  {
   "cell_type": "code",
   "execution_count": null,
   "metadata": {},
   "outputs": [],
   "source": [
    "fname = 'dataset/topography.gdf'\n",
    "topo = hm.load_icgem_gdf(fname)"
   ]
  },
  {
   "cell_type": "markdown",
   "metadata": {},
   "source": [
    "### Armazenando os dados em um array"
   ]
  },
  {
   "cell_type": "code",
   "execution_count": null,
   "metadata": {},
   "outputs": [],
   "source": [
    "lat = gravity.latitude\n",
    "lon = gravity.longitude\n",
    "elevation = gravity.h_over_geoid\n",
    "data = gravity.gravity_earth\n",
    "geoidal_height = geoid.geoid\n",
    "topography = topo.topography_grd"
   ]
  },
  {
   "cell_type": "markdown",
   "metadata": {},
   "source": [
    "## Gravidade real (mundo inteiro)"
   ]
  },
  {
   "cell_type": "code",
   "execution_count": null,
   "metadata": {},
   "outputs": [],
   "source": [
    "fig = plt.figure(figsize=(11,6))\n",
    "\n",
    "ax = fig.add_subplot(projection=ccrs.Mollweide())\n",
    "ax.coastlines(linewidth=0.5)\n",
    "ax.set_global()\n",
    "ax.set_title('Gravity Earth',fontsize=15)\n",
    "cmap = ax.contourf(lon,lat,data,100,transform=ccrs.PlateCarree(),cmap='viridis',extend='both')\n",
    "cbar = fig.colorbar(cmap,orientation='horizontal',pad=0.05,aspect=120,spacing='uniform',ax=ax)\n",
    "cbar.set_label('mGal',fontsize=10)\n",
    "\n",
    "plt.show()"
   ]
  },
  {
   "cell_type": "markdown",
   "metadata": {},
   "source": [
    "## Gravidade Normal sobre a superfície terrestre"
   ]
  },
  {
   "cell_type": "code",
   "execution_count": null,
   "metadata": {},
   "outputs": [],
   "source": [
    "normal_gravity = bl.WGS84.normal_gravity(lat, elevation)"
   ]
  },
  {
   "cell_type": "code",
   "execution_count": null,
   "metadata": {},
   "outputs": [],
   "source": [
    "fig = plt.figure(figsize=(11,6))\n",
    "\n",
    "ax = fig.add_subplot(projection=ccrs.Mollweide())\n",
    "ax.coastlines(linewidth=0.5)\n",
    "ax.set_global()\n",
    "ax.set_title('Normal gravity',fontsize=15)\n",
    "cmap = ax.contourf(lon,lat,normal_gravity,100,transform=ccrs.PlateCarree(),cmap='viridis',extend='both')\n",
    "cbar = fig.colorbar(cmap,orientation='horizontal',pad=0.05,aspect=120,spacing='uniform',ax=ax)\n",
    "cbar.set_label('mGal',fontsize=10)\n",
    "\n",
    "plt.savefig('images/normal_gravity_surface.png',dpi=200,bbox_inches='tight')\n",
    "plt.show()"
   ]
  },
  {
   "cell_type": "markdown",
   "metadata": {},
   "source": [
    "## Distúrbio de gravidade "
   ]
  },
  {
   "cell_type": "code",
   "execution_count": null,
   "metadata": {},
   "outputs": [],
   "source": [
    "disturbance = data - normal_gravity"
   ]
  },
  {
   "cell_type": "code",
   "execution_count": null,
   "metadata": {},
   "outputs": [],
   "source": [
    "fig = plt.figure(figsize=(11,6))\n",
    "\n",
    "ax = fig.add_subplot(projection=ccrs.Mollweide())\n",
    "ax.coastlines(linewidth=0.5)\n",
    "ax.set_global()\n",
    "ax.set_title('Gravity Disturbance',fontsize=15)\n",
    "cmap = ax.contourf(lon,lat,disturbance,100,transform=ccrs.PlateCarree(),cmap='seismic',extend='both')\n",
    "cbar = fig.colorbar(cmap,orientation='horizontal',pad=0.05,aspect=120,spacing='uniform',ax=ax)\n",
    "cbar.set_label('mGal',fontsize=10)\n",
    "\n",
    "plt.savefig('images/gravity_disturbance.png',dpi=200,bbox_inches='tight')\n",
    "plt.show()"
   ]
  },
  {
   "cell_type": "markdown",
   "metadata": {},
   "source": [
    "## Anomalia Bouguer\n",
    "\n",
    "Calcular o distúrbio de gravidade é o primeiro passo para gerar um conjunto de dados que vão nos fornecer informações sobre as estruturas no interior da Terra. Um dos sinais presentes nos distúrbios de gravidade são os efeitos gravitacionais das topografia, ou seja, de toda a massa localizada acima da superfície de referência (*i.e.*, do elipsoide de referência). Este efeito surge não somente da proximidade entre os pontos de observação e estas estruturas, mas também de seu contraste de densidade que pode ser considerado como sua própria densidade absoluta. Portanto, é de extrema importância retirar do dado de gravidade o efeito gerado por estas massas topográficas, principalmente, se o interesse de estudo está situado em estruturas abaixo da superfície terrestre. O resultado desta correção é o que chamamos de **Anomalia Bouguer**. A correção bouguer consiste em aproximar o efeito destas massas topográficas pelo efeito de uma placa com densidade constante. Neste sentido, a correção bouguer pode ser dada por: \n",
    "\n",
    "$$ g_{B} = 2 \\pi \\rho G h, $$\n",
    "em que $\\rho$ é a densidade, $G$ é a constante gravitacional e $h$ é a altura de medição."
   ]
  },
  {
   "cell_type": "code",
   "execution_count": null,
   "metadata": {},
   "outputs": [],
   "source": [
    "reference = geoidal_height + topography"
   ]
  },
  {
   "cell_type": "code",
   "execution_count": null,
   "metadata": {},
   "outputs": [],
   "source": [
    "bouguer_correction = hm.bouguer_correction(reference)"
   ]
  },
  {
   "cell_type": "code",
   "execution_count": null,
   "metadata": {},
   "outputs": [],
   "source": [
    "bouguer_anomaly = disturbance - bouguer_correction"
   ]
  },
  {
   "cell_type": "code",
   "execution_count": null,
   "metadata": {},
   "outputs": [],
   "source": [
    "fig = plt.figure(figsize=(11,6))\n",
    "\n",
    "ax = fig.add_subplot(projection=ccrs.Mollweide())\n",
    "ax.coastlines(linewidth=0.5)\n",
    "ax.set_global()\n",
    "ax.set_title('Bouguer Anomaly',fontsize=15)\n",
    "cmap = ax.contourf(lon,lat,bouguer_anomaly,100,transform=ccrs.PlateCarree(),cmap='seismic',norm=colors.CenteredNorm(),extend='both')\n",
    "cbar = fig.colorbar(cmap,orientation='horizontal',pad=0.05,aspect=120,spacing='uniform',ax=ax)\n",
    "cbar.set_label('mGal',fontsize=10)\n",
    "\n",
    "plt.savefig('images/bouguer_anomaly.png',dpi=200,bbox_inches='tight')\n",
    "plt.show()"
   ]
  }
 ],
 "metadata": {
  "kernelspec": {
   "display_name": "Python 3 (ipykernel)",
   "language": "python",
   "name": "python3"
  },
  "language_info": {
   "codemirror_mode": {
    "name": "ipython",
    "version": 3
   },
   "file_extension": ".py",
   "mimetype": "text/x-python",
   "name": "python",
   "nbconvert_exporter": "python",
   "pygments_lexer": "ipython3",
   "version": "3.12.4"
  }
 },
 "nbformat": 4,
 "nbformat_minor": 4
}
