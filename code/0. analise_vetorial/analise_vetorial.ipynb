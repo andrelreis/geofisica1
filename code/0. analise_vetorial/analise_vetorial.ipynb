{
 "cells": [
  {
   "cell_type": "markdown",
   "id": "d4c58be8-441a-492e-b89e-7df85e4044d5",
   "metadata": {},
   "source": [
    "# Revisão de Análise Vetorial"
   ]
  },
  {
   "cell_type": "markdown",
   "id": "68bb4d9a-da20-41ef-9922-b092ce284ad0",
   "metadata": {},
   "source": [
    "Este notebook tem a intenção de demonstrar alguns conceitos importantes que serão vistos ao longo do curso. Nele abordaremos os conceitos de vetores, algumas operações entre vetores e suas propriedades. Além disso, veremos alguns operadores vetoriais interessantes e seus significados matemáticos. "
   ]
  },
  {
   "cell_type": "markdown",
   "id": "fe5f254c-ac64-4247-9416-8f02df238d9a",
   "metadata": {},
   "source": [
    "## Importando bibliotecas"
   ]
  },
  {
   "cell_type": "code",
   "execution_count": null,
   "id": "04f86aaf-8abd-444e-a4d9-4d4e448393fd",
   "metadata": {},
   "outputs": [],
   "source": [
    "import numpy as np\n",
    "import matplotlib.pyplot as plt"
   ]
  },
  {
   "cell_type": "markdown",
   "id": "bc37c7d9-c142-4f0c-8027-c1b7016c3457",
   "metadata": {},
   "source": [
    "## Vetores \n",
    "\n",
    "Vetores são segmentos de reta orientados, que possuem magnitude, direção e sentido. Os vetores desempenham papel crucial na Física para a descrição de algumas grandezas. Podemos representar os vetores de muitas formas tais como: $\\mathbf{F}$, $\\vec{F}$ ou $\\bar{\\mathbf{F}}$."
   ]
  },
  {
   "cell_type": "markdown",
   "id": "b5a26b97-e108-41f7-9f22-10a85b346b67",
   "metadata": {},
   "source": [
    "### Definindo os vetores "
   ]
  },
  {
   "cell_type": "code",
   "execution_count": null,
   "id": "9f24a034-72c3-4a3b-a182-464ec6561b43",
   "metadata": {},
   "outputs": [],
   "source": [
    "a = np.array([1.,3.,5.])\n",
    "print (a)"
   ]
  },
  {
   "cell_type": "code",
   "execution_count": null,
   "id": "6b64c54d-ce7b-44ff-ada5-0b2eba123cd6",
   "metadata": {},
   "outputs": [],
   "source": [
    "b = np.array([2.,4.,6.])\n",
    "print (b)"
   ]
  },
  {
   "cell_type": "code",
   "execution_count": null,
   "id": "45636124-ad8b-46b4-ace2-e82755810aba",
   "metadata": {},
   "outputs": [],
   "source": [
    "c = np.array([10.,20.,30.])\n",
    "print (c)"
   ]
  },
  {
   "cell_type": "markdown",
   "id": "e6d494b7-9e98-4920-916a-ea32c85af2df",
   "metadata": {},
   "source": [
    "#### Soma : $\\mathbf{a} + \\mathbf{b}$"
   ]
  },
  {
   "cell_type": "code",
   "execution_count": null,
   "id": "f181a052-5e85-462f-b1eb-539aa5104d0d",
   "metadata": {},
   "outputs": [],
   "source": [
    "print (a + b)"
   ]
  },
  {
   "cell_type": "markdown",
   "id": "8340547f-6185-4326-b095-660ab4630f4f",
   "metadata": {},
   "source": [
    "#### Produto escalar : $\\mathbf{a} \\cdot \\mathbf{b}$"
   ]
  },
  {
   "cell_type": "code",
   "execution_count": null,
   "id": "5abf49a4-7647-407a-913d-7ee6897bd91f",
   "metadata": {},
   "outputs": [],
   "source": [
    "print (np.dot(a,b))"
   ]
  },
  {
   "cell_type": "markdown",
   "id": "aeb74459-05ee-4450-b9f9-2163c6ba6d3d",
   "metadata": {},
   "source": [
    "#### Produto vetorial : $\\mathbf{a} \\times \\mathbf{b}$"
   ]
  },
  {
   "cell_type": "code",
   "execution_count": null,
   "id": "58bac34b-d3de-482c-95b7-954fcbc3086c",
   "metadata": {},
   "outputs": [],
   "source": [
    "print (np.cross(a,b))"
   ]
  },
  {
   "cell_type": "markdown",
   "id": "d5c61921-5331-4917-b342-54a61789af12",
   "metadata": {},
   "source": [
    "#### <ins>Propriedades<ins> :"
   ]
  },
  {
   "cell_type": "markdown",
   "id": "9db2ee21-a5e0-4bdc-8b36-7a26595273ba",
   "metadata": {},
   "source": [
    "1) $\\mathbf{a} + \\mathbf{b} = \\mathbf{b} + \\mathbf{a}$"
   ]
  },
  {
   "cell_type": "code",
   "execution_count": null,
   "id": "0f18abe7-9a14-4b15-9396-23d34d17e96b",
   "metadata": {},
   "outputs": [],
   "source": [
    "np.allclose(a+b,b+a)"
   ]
  },
  {
   "cell_type": "markdown",
   "id": "0da98549-a51d-4de8-a7f0-c6a23b14f9bf",
   "metadata": {},
   "source": [
    "2. $\\mathbf{a} \\cdot \\mathbf{b} = \\mathbf{b} \\cdot \\mathbf{a}$"
   ]
  },
  {
   "cell_type": "code",
   "execution_count": null,
   "id": "5829f0f5-65ee-4a25-880d-ccf75eb1e280",
   "metadata": {},
   "outputs": [],
   "source": [
    "np.allclose(np.dot(a,b),np.dot(b,a))"
   ]
  },
  {
   "cell_type": "markdown",
   "id": "35529574-75b5-4098-9bb0-1ce7b77549b1",
   "metadata": {},
   "source": [
    "3. $\\mathbf{a} \\times \\mathbf{b} = - \\mathbf{b} \\times \\mathbf{a}$"
   ]
  },
  {
   "cell_type": "code",
   "execution_count": null,
   "id": "ffa4bad3-e9a9-4b23-a295-9975b4716a91",
   "metadata": {},
   "outputs": [],
   "source": [
    "np.allclose(np.cross(a,b),-np.cross(b,a))"
   ]
  },
  {
   "cell_type": "markdown",
   "id": "895acc10-4ee2-4406-a7b4-ccedcae1010f",
   "metadata": {},
   "source": [
    "4. $\\mathbf{a}\\cdot(\\mathbf{b} + \\mathbf{c}) = \\mathbf{a} \\cdot \\mathbf{b} + \\mathbf{a} \\cdot \\mathbf{c}$"
   ]
  },
  {
   "cell_type": "code",
   "execution_count": null,
   "id": "2d81023b-a331-4e81-aefd-fa44624405f6",
   "metadata": {},
   "outputs": [],
   "source": [
    "np.allclose(np.dot(a,b+c),np.dot(a,b) + np.dot(a,c))"
   ]
  },
  {
   "cell_type": "markdown",
   "id": "43f1acbd-e5f4-4699-bf81-0650ff161a16",
   "metadata": {},
   "source": [
    "5. $\\mathbf{a}\\times(\\mathbf{b} + \\mathbf{c}) = \\mathbf{a} \\times \\mathbf{b} + \\mathbf{a} \\times \\mathbf{c}$"
   ]
  },
  {
   "cell_type": "code",
   "execution_count": null,
   "id": "c4ae7d59-0cbe-4bc0-8902-7ba66ac1b5ed",
   "metadata": {},
   "outputs": [],
   "source": [
    "np.allclose(np.cross(a,b+c),np.cross(a,b) + np.cross(a,c))"
   ]
  },
  {
   "cell_type": "markdown",
   "id": "06c1b027-bec4-424f-80b8-055c418192ba",
   "metadata": {},
   "source": [
    "## Campo vetorial \n",
    "\n",
    "Um campo vetorial é uma construção matemática que associa a cada ponto do espaço um vetor. Estes campos são utilizados, de forma geral, para descrevermos fisicamente alguns fenômenos, tais como a velocidade e direção de um fluido, um campo elétrico, um campo gravitacional, um campo magnético, dentre tantas outras aplicações. Genericamente, este campo vetorial $F: \\mathbb{R}^3 \\longrightarrow \\mathbb{R}^3$  pode ser representado por:\n",
    "\n",
    "$$ \\mathbf{F}(x,y,z) = g(x,y,z) \\, \\hat{\\mathbf{e}}_x + h(x,y,z) \\, \\hat{\\mathbf{e}}_y + l(x,y,z) \\, \\hat{\\mathbf{e}}_z .$$\n",
    "\n",
    "**Definição formal:** Um *campo de vetores* em $A \\subset \\mathbb{R}^n$ é uma função\n",
    "\n",
    "$$ F: A \\subset \\mathbb{R}^n \\longrightarrow \\mathbb{R}^n. $$ \n",
    "Seja $A \\subset \\mathbb{R}^n$ um conjunto aberto. O campo vetorial $F: A \\subset \\mathbb{R}^n \\longrightarrow \\mathbb{R}^n$ é dito contínuo, diferenciável e de classe $C^k$ em $\\mathbf{u} \\in A$ se todas as suas funções coordenadas $F_i :  A \\subset \\mathbb{R}^n \\longrightarrow \\mathbb{R}$ são contínuas, diferenciáveis ou de classe $C^k$ em $\\mathbf{u} \\in A$, respectivamente. "
   ]
  },
  {
   "cell_type": "markdown",
   "id": "6d8d67fd-c86d-4ce3-b9e8-4740c847b81f",
   "metadata": {},
   "source": [
    "#### Exemplo:\n",
    "\n",
    "Seja $F: \\mathbb{R}^2 - \\{0,0\\} \\longrightarrow \\mathbb{R}^2$ definida por:\n",
    "\n",
    "$$ \\mathbf{F}(x,y) = \\left( \\frac{-y}{\\sqrt{x^2 + y^2}} , \\frac{x}{\\sqrt{x^2 + y^2}} \\right) $$"
   ]
  },
  {
   "cell_type": "code",
   "execution_count": null,
   "id": "33d5eae0-ee68-4c21-961f-e0a991dff9b2",
   "metadata": {},
   "outputs": [],
   "source": [
    "x = np.arange(-10,10,1)\n",
    "y = np.arange(-10,10,1)"
   ]
  },
  {
   "cell_type": "code",
   "execution_count": null,
   "id": "ba69f992-d0dd-4e32-a6a6-63d5299eda1f",
   "metadata": {},
   "outputs": [],
   "source": [
    "X,Y = np.meshgrid(x,y)"
   ]
  },
  {
   "cell_type": "code",
   "execution_count": null,
   "id": "78e08a94-5d05-4c84-ba8f-75860e757adc",
   "metadata": {},
   "outputs": [],
   "source": [
    "Fx = -Y/(np.sqrt(X*X + Y*Y) + 1e-10)\n",
    "Fy = X/(np.sqrt(X*X + Y*Y)  + 1e-10)"
   ]
  },
  {
   "cell_type": "code",
   "execution_count": null,
   "id": "bfba36ba-d17b-437c-bd36-78b40e2dcec2",
   "metadata": {},
   "outputs": [],
   "source": [
    "fig,ax = plt.subplots()\n",
    "\n",
    "q = ax.quiver(X, Y, Fx, Fy,pivot='tip',color='k')\n",
    "ax.set_title('Vector field')\n",
    "ax.set_xlabel('x')\n",
    "ax.set_ylabel('y')\n",
    "\n",
    "plt.show"
   ]
  },
  {
   "cell_type": "markdown",
   "id": "75dc6780-d12d-4db3-87d4-007bdb194922",
   "metadata": {},
   "source": [
    "## Campo gradiente\n",
    "\n",
    "O campo gradiente de uma função escalar $f: A \\subset \\mathbb{R}^3 \\longrightarrow \\mathbb{R}$ é defindo como:\n",
    "\n",
    "$$ \\nabla f(x,y,z) = \\left( \\frac{\\partial f}{\\partial x}, \\, \\frac{\\partial f}{\\partial y}, \\, \\frac{\\partial f}{\\partial z} \\right)$$."
   ]
  },
  {
   "cell_type": "markdown",
   "id": "c27f66ad-2524-43b0-9094-757105533b95",
   "metadata": {},
   "source": [
    "#### Exemplo:\n",
    "\n",
    "$f(x,y) = x^2 + y^2$, então: \n",
    "\n",
    "$$ \\nabla f(x,y) = (2x,2y).$$ "
   ]
  },
  {
   "cell_type": "code",
   "execution_count": null,
   "id": "1878f1aa-5593-4a74-92e7-9be88f7968dd",
   "metadata": {},
   "outputs": [],
   "source": [
    "fxy = X*X + Y*Y"
   ]
  },
  {
   "cell_type": "code",
   "execution_count": null,
   "id": "2865e4a4-519b-4342-a67b-b94e735d3ffe",
   "metadata": {},
   "outputs": [],
   "source": [
    "fx = 2*X\n",
    "fy = 2*Y"
   ]
  },
  {
   "cell_type": "code",
   "execution_count": null,
   "id": "47f37ee4-3fd0-401d-a992-2a2b7ec8d070",
   "metadata": {},
   "outputs": [],
   "source": [
    "fig,ax = plt.subplots()\n",
    "\n",
    "cm = ax.contourf(X,Y,fxy,50,cmap='RdBu_r',extend='both')\n",
    "q = ax.quiver(X, Y, fx, fy,pivot='mid',color='k')\n",
    "fig.colorbar(cm, ax=ax,shrink=1.0,aspect=40,pad=0.02)\n",
    "ax.set_title('Gradient field')\n",
    "ax.set_xlabel('x')\n",
    "ax.set_ylabel('y')\n",
    "\n",
    "plt.show()"
   ]
  },
  {
   "cell_type": "code",
   "execution_count": null,
   "id": "9d23f684-1b81-4a99-aaa3-94cb4c0e0e56",
   "metadata": {},
   "outputs": [],
   "source": []
  }
 ],
 "metadata": {
  "kernelspec": {
   "display_name": "Python 3 (ipykernel)",
   "language": "python",
   "name": "python3"
  },
  "language_info": {
   "codemirror_mode": {
    "name": "ipython",
    "version": 3
   },
   "file_extension": ".py",
   "mimetype": "text/x-python",
   "name": "python",
   "nbconvert_exporter": "python",
   "pygments_lexer": "ipython3",
   "version": "3.11.5"
  }
 },
 "nbformat": 4,
 "nbformat_minor": 5
}
