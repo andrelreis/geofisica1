{
 "cells": [
  {
   "cell_type": "markdown",
   "id": "d4c58be8-441a-492e-b89e-7df85e4044d5",
   "metadata": {},
   "source": [
    "# Funções Harmônicas"
   ]
  },
  {
   "cell_type": "markdown",
   "id": "68bb4d9a-da20-41ef-9922-b092ce284ad0",
   "metadata": {},
   "source": [
    "Este notebook tem a intenção de demonstrar como provar que uma função é harmônica, ou seja, como ver que um determinado potencial é solução da [Equação de Laplace](https://en.wikipedia.org/wiki/Laplace%27s_equation)."
   ]
  },
  {
   "cell_type": "markdown",
   "id": "515eae9d-ba3e-45b0-8b51-e586e59e61e0",
   "metadata": {},
   "source": [
    "## As funções harmônicas e a Teoria do Potencial\n",
    "\n",
    "### A Equação de Laplace \n",
    "Uma Equação de Laplace é uma equação diferencial parcial de segunda ordem, nomeada em homenagem a [Pierre-Simon Laplace](https://en.wikipedia.org/wiki/Pierre-Simon_Laplace), que investigou pela primeira vez suas soluções e consequências na descrição de fenômenos físicos. Portanto, esta equação é definida como um operador de segunda ordem dado por: \n",
    "\n",
    "$$ \\nabla^2 f(x,y,z) = 0, $$\n",
    "em que $f(x,y,z)$ é uma função diferenciável até segunda ordem e $\\nabla^2 \\equiv \\nabla \\cdot \\nabla$ é o **Operador Laplaciano**. Portanto, o estudo teórico das soluções da equação de Laplace é conhecido como [Teoria do Potencial](https://en.wikipedia.org/wiki/Potential_theory).\n",
    "\n",
    "### A solução da Equação de Laplace - Funções Harmônicas\n",
    "\n",
    "Em termos práticos, estudamos potenciais que são gerados por uma dada distribuição de propriedade física. No entanto, estas distribuições não são conhecidas a priori, de forma que só teremos em mãos as observações geradas por elas. Portanto, estas observações podem auxiliar na determinação dos potenciais de interesse em determinadas condições, que, geralmente, são determinados em regiões livres de fonte. Estes potenciais, dentro desta condição, satisfazem a equação de Laplace e são ditas como funções harmônicas. Neste sentido um potencial é dito harmônico se:\n",
    "\n",
    "$$\\nabla^2 \\phi(x,y,z) = \\frac{\\partial^2 \\phi(x,y,z)}{\\partial x^2} + \\frac{\\partial^2 \\phi(x,y,z)}{\\partial y^2} + \\frac{\\partial^2 \\phi(x,y,z)}{\\partial z^2}  = 0,$$\n",
    "em que $\\phi (x,y,z)$ é o potencial que gera um determinado campo em $\\mathbb{R}^3$. \n",
    "\n"
   ]
  },
  {
   "cell_type": "markdown",
   "id": "bc37c7d9-c142-4f0c-8027-c1b7016c3457",
   "metadata": {},
   "source": [
    "## Um exemplo de função harmônica :\n",
    "\n",
    "Considere um sistema de coordenadas cartesiano no qual os eixos $x$, $y$ e $z$ são orientados positivamente para norte, leste e para baixo, respectivamente. Seja um potencial $\\phi (x,y,z)$ que é dado por: \n",
    "\n",
    "$$ \\phi (x,y,z) = \\frac{1}{\\parallel \\mathbf{r} - \\mathbf{r}' \\parallel}, $$\n",
    "em que $\\mathbf{r} \\in \\mathbb{R}^3$ é um vetor que localiza um ponto $(x,y,z)$ e $\\mathbf{r}' \\in \\mathbb{R}^3$ um vetor que localiza um ponto $(x',y',z')$. Portanto, $\\phi(x,y,z)$ é apenas uma função que é o inverso da distância (dada pela norma euclidiana) entre dois pontos localizados pelos vetores $\\mathbf{r}$ e $\\mathbf{r'}$. "
   ]
  },
  {
   "cell_type": "markdown",
   "id": "fe5f254c-ac64-4247-9416-8f02df238d9a",
   "metadata": {},
   "source": [
    "## Importando bibliotecas"
   ]
  },
  {
   "cell_type": "code",
   "execution_count": null,
   "id": "04f86aaf-8abd-444e-a4d9-4d4e448393fd",
   "metadata": {},
   "outputs": [],
   "source": [
    "import numpy as np\n",
    "import matplotlib.pyplot as plt"
   ]
  },
  {
   "cell_type": "markdown",
   "id": "b5a26b97-e108-41f7-9f22-10a85b346b67",
   "metadata": {},
   "source": [
    "### Definindo os vetores e visualizando o potencial"
   ]
  },
  {
   "cell_type": "code",
   "execution_count": null,
   "id": "9619af88-ced7-4e88-8ef0-7f5eeb01467e",
   "metadata": {},
   "outputs": [],
   "source": [
    "x = np.linspace(-10.,10.,num=50,endpoint=True)\n",
    "y = np.linspace(-10.,10.,num=50,endpoint=True)\n",
    "Y,X = np.meshgrid(y,x)\n",
    "Z = np.zeros_like(X)"
   ]
  },
  {
   "cell_type": "code",
   "execution_count": null,
   "id": "740ca500-4077-46b0-b883-cc32239f78a6",
   "metadata": {},
   "outputs": [],
   "source": [
    "x_line = 0.\n",
    "y_line = 0.\n",
    "z_line = 10."
   ]
  },
  {
   "cell_type": "code",
   "execution_count": null,
   "id": "22b04db1-2b56-4690-9ea4-bcb84ef7a104",
   "metadata": {},
   "outputs": [],
   "source": [
    "fig,ax = plt.subplots(figsize=(6,5))\n",
    "\n",
    "cm = ax.contourf(X,Y,phi,50,cmap='RdBu_r',extend='both')\n",
    "fig.colorbar(cm, ax=ax,shrink=1.0,aspect=40,pad=0.02)\n",
    "ax.set_title('Potential $\\phi(x,y,z)$')\n",
    "ax.set_xlabel('x')\n",
    "ax.set_ylabel('y')\n",
    "\n",
    "plt.show()"
   ]
  },
  {
   "cell_type": "code",
   "execution_count": null,
   "id": "19250981-8ebb-4bdc-9555-d52d743fe512",
   "metadata": {},
   "outputs": [],
   "source": [
    "norm_r = np.sqrt((X - x_line)**2 + (Y - y_line)**2 + (Z - z_line)**2)"
   ]
  },
  {
   "cell_type": "code",
   "execution_count": null,
   "id": "c3f4280d-86a6-4faf-b085-475cfb85b5bc",
   "metadata": {},
   "outputs": [],
   "source": [
    "phi = 1/norm_r"
   ]
  },
  {
   "cell_type": "markdown",
   "id": "99f04013-d062-4ef7-9019-2829d82ac312",
   "metadata": {},
   "source": [
    "## Como provar que esse potencial é harmônico? \n",
    "\n",
    "Este potencial será harmônico se:\n",
    "\n",
    "$$ \\frac{\\partial^2 \\phi(x,y,z)}{\\partial x^2} + \\frac{\\partial^2 \\phi(x,y,z)}{\\partial y^2} + \\frac{\\partial^2 \\phi(x,y,z)}{\\partial z^2}  = 0$$.\n"
   ]
  },
  {
   "cell_type": "markdown",
   "id": "3232d184-9ef5-4161-9e09-5310989d2c17",
   "metadata": {},
   "source": [
    "#### Faça as derivadas e some:\n",
    "\n",
    "As derivadas deste potencial serão iguais a:\n",
    "\n",
    "$$ \\phi_{xx} = \\frac{3(x - x')^2 - \\parallel \\mathbf{r} - \\mathbf{r}' \\parallel^2}{\\parallel \\mathbf{r} - \\mathbf{r}' \\parallel^5}, $$\n",
    "\n",
    "$$ \\phi_{yy} = \\frac{3(y - y')^2 - \\parallel \\mathbf{r} - \\mathbf{r}' \\parallel^2}{\\parallel \\mathbf{r} - \\mathbf{r}' \\parallel^5}, $$\n",
    "e\n",
    "$$ \\phi_{zz} = \\frac{3(z - z')^2 - \\parallel \\mathbf{r} - \\mathbf{r}' \\parallel^2}{\\parallel \\mathbf{r} - \\mathbf{r}' \\parallel^5}. $$\n"
   ]
  },
  {
   "cell_type": "code",
   "execution_count": null,
   "id": "3e13d87b-abfc-42d0-8ff3-59ee212c473e",
   "metadata": {},
   "outputs": [],
   "source": [
    "phi_xx ="
   ]
  },
  {
   "cell_type": "code",
   "execution_count": null,
   "id": "3ab3922a-e04b-4428-8bc9-588fedf3b668",
   "metadata": {},
   "outputs": [],
   "source": [
    "phi_yy ="
   ]
  },
  {
   "cell_type": "code",
   "execution_count": null,
   "id": "302bab09-cbd2-44af-a827-ba9d5a4d88e0",
   "metadata": {},
   "outputs": [],
   "source": [
    "phi_zz = "
   ]
  },
  {
   "cell_type": "code",
   "execution_count": null,
   "id": "5b08ecda-d698-46ff-8277-2b677525d5b0",
   "metadata": {},
   "outputs": [],
   "source": [
    "tol = 1e-14"
   ]
  },
  {
   "cell_type": "code",
   "execution_count": null,
   "id": "6cdc51db-8161-4b93-b536-fb2fe7512157",
   "metadata": {},
   "outputs": [],
   "source": [
    "np.all(phi_xx + phi_yy + phi_zz < tol) "
   ]
  }
 ],
 "metadata": {
  "kernelspec": {
   "display_name": "Python 3 (ipykernel)",
   "language": "python",
   "name": "python3"
  },
  "language_info": {
   "codemirror_mode": {
    "name": "ipython",
    "version": 3
   },
   "file_extension": ".py",
   "mimetype": "text/x-python",
   "name": "python",
   "nbconvert_exporter": "python",
   "pygments_lexer": "ipython3",
   "version": "3.10.15"
  }
 },
 "nbformat": 4,
 "nbformat_minor": 5
}
