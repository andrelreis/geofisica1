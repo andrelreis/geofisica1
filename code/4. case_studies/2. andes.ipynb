{
 "cells": [
  {
   "cell_type": "markdown",
   "metadata": {},
   "source": [
    "# Estudos de caso: Andes, América do Sul\n",
    "\n",
    "Notebook que demonstrará alguns estudos de caso e a relação do distúrbio de gravidade e da anomalia bouguer na interpretação de dados de gravidade em margem convergente."
   ]
  },
  {
   "cell_type": "markdown",
   "metadata": {},
   "source": [
    "# Importando bibliotecas"
   ]
  },
  {
   "cell_type": "markdown",
   "metadata": {},
   "source": [
    "Importando as bibliotecas que serão utilizadas para manipulação e visualização dos dados de gravidade."
   ]
  },
  {
   "cell_type": "code",
   "execution_count": null,
   "metadata": {},
   "outputs": [],
   "source": [
    "import numpy as np\n",
    "import matplotlib.pyplot as plt\n",
    "import harmonica as hm\n",
    "import cartopy.crs as ccrs\n",
    "import matplotlib.colors as colors\n",
    "import boule as bl\n",
    "import pyproj\n",
    "import verde as vd"
   ]
  },
  {
   "cell_type": "markdown",
   "metadata": {},
   "source": [
    "# Carregando os dados"
   ]
  },
  {
   "cell_type": "code",
   "execution_count": null,
   "metadata": {},
   "outputs": [],
   "source": [
    "fname = 'dataset/gravity_earth_andes.gdf'\n",
    "gravity = hm.load_icgem_gdf(fname)"
   ]
  },
  {
   "cell_type": "code",
   "execution_count": null,
   "metadata": {},
   "outputs": [],
   "source": [
    "fname = 'dataset/geoid_andes.gdf'\n",
    "geoid = hm.load_icgem_gdf(fname)"
   ]
  },
  {
   "cell_type": "code",
   "execution_count": null,
   "metadata": {},
   "outputs": [],
   "source": [
    "fname = 'dataset/topography_andes.gdf'\n",
    "topo = hm.load_icgem_gdf(fname)"
   ]
  },
  {
   "cell_type": "markdown",
   "metadata": {},
   "source": [
    "### Armazenando os dados em um array e manipulando os dados"
   ]
  },
  {
   "cell_type": "code",
   "execution_count": null,
   "metadata": {},
   "outputs": [],
   "source": [
    "lat = gravity.latitude\n",
    "lon = gravity.longitude\n",
    "elevation = gravity.h_over_geoid\n",
    "data = gravity.gravity_earth\n",
    "geoidal_height = geoid.geoid\n",
    "topography = topo.topography_shm"
   ]
  },
  {
   "cell_type": "code",
   "execution_count": null,
   "metadata": {},
   "outputs": [],
   "source": [
    "longitude, latitude = np.meshgrid(lon.values,lat.values)"
   ]
  },
  {
   "cell_type": "code",
   "execution_count": null,
   "metadata": {},
   "outputs": [],
   "source": [
    "field = data.values.reshape(longitude.shape)"
   ]
  },
  {
   "cell_type": "markdown",
   "metadata": {},
   "source": [
    "# Gravidade real "
   ]
  },
  {
   "cell_type": "code",
   "execution_count": null,
   "metadata": {},
   "outputs": [],
   "source": [
    "fig = plt.figure(figsize=[6,6])\n",
    "\n",
    "ax = fig.add_subplot(projection=ccrs.PlateCarree())\n",
    "ax.set_title('Gravity (Andes)',fontsize=15)\n",
    "ax.coastlines(linewidth=0.5)\n",
    "ax.set_extent([lon.values.min(),lon.values.max(),\n",
    "               lat.values.min(),lat.values.max()], ccrs.PlateCarree())\n",
    "gd = ax.gridlines(visible=None,draw_labels=True, dms=False, x_inline=False, y_inline=False)\n",
    "gd.top_labels = False\n",
    "gd.right_labels = False\n",
    "\n",
    "cmap = ax.contourf(longitude,latitude,field,\n",
    "                   100,transform=ccrs.PlateCarree(),\n",
    "                   cmap='viridis')\n",
    "\n",
    "cbar = fig.colorbar(cmap,orientation='vertical',pad=0.02,aspect=50,spacing='uniform',ax=ax,fraction=0.011)\n",
    "cbar.set_label('mGal',fontsize=10)\n",
    "\n",
    "plt.savefig('images/gravity_earth_andes.png',dpi=200,bbox_inches='tight')\n",
    "\n",
    "plt.show()"
   ]
  },
  {
   "cell_type": "markdown",
   "metadata": {},
   "source": [
    "# Gravidade Normal sobre a superfície terrestre"
   ]
  },
  {
   "cell_type": "code",
   "execution_count": null,
   "metadata": {},
   "outputs": [],
   "source": [
    "normal_gravity = bl.WGS84.normal_gravity(latitude, elevation)"
   ]
  },
  {
   "cell_type": "code",
   "execution_count": null,
   "metadata": {},
   "outputs": [],
   "source": [
    "fig = plt.figure(figsize=[6,6])\n",
    "\n",
    "ax = fig.add_subplot(projection=ccrs.PlateCarree())\n",
    "ax.set_title('Normal gravity (Andes)',fontsize=15)\n",
    "ax.coastlines(linewidth=0.5)\n",
    "ax.set_extent([lon.values.min(),lon.values.max(),\n",
    "               lat.values.min(),lat.values.max()], ccrs.PlateCarree())\n",
    "gd = ax.gridlines(visible=None,draw_labels=True, dms=False, x_inline=False, y_inline=False)\n",
    "gd.top_labels = False\n",
    "gd.right_labels = False\n",
    "\n",
    "cmap = ax.contourf(longitude,latitude,normal_gravity,\n",
    "                   100,transform=ccrs.PlateCarree(),\n",
    "                   cmap='viridis')\n",
    "\n",
    "cbar = fig.colorbar(cmap,orientation='vertical',pad=0.02,aspect=50,spacing='uniform',ax=ax,fraction=0.011)\n",
    "cbar.set_label('mGal',fontsize=10)\n",
    "\n",
    "plt.savefig('images/normal_gravity_andes.png',dpi=200,bbox_inches='tight')\n",
    "\n",
    "plt.show()"
   ]
  },
  {
   "cell_type": "markdown",
   "metadata": {},
   "source": [
    "# Distúrbio de gravidade "
   ]
  },
  {
   "cell_type": "code",
   "execution_count": null,
   "metadata": {},
   "outputs": [],
   "source": [
    "disturbance = field - normal_gravity"
   ]
  },
  {
   "cell_type": "code",
   "execution_count": null,
   "metadata": {},
   "outputs": [],
   "source": [
    "fig = plt.figure(figsize=[6,6])\n",
    "\n",
    "ax = fig.add_subplot(projection=ccrs.PlateCarree())\n",
    "ax.set_title('Gravity Disturbance (Andes)',fontsize=15)\n",
    "ax.coastlines(linewidth=0.5)\n",
    "ax.set_extent([lon.values.min(),lon.values.max(),\n",
    "               lat.values.min(),lat.values.max()], ccrs.PlateCarree())\n",
    "gd = ax.gridlines(visible=None,draw_labels=True, dms=False, x_inline=False, y_inline=False)\n",
    "gd.top_labels = False\n",
    "gd.right_labels = False\n",
    "\n",
    "cmap = ax.contourf(lon,lat,disturbance,\n",
    "                   100,transform=ccrs.PlateCarree(),\n",
    "                   norm=colors.CenteredNorm(),\n",
    "                   cmap='RdBu_r')\n",
    "\n",
    "cbar = fig.colorbar(cmap,orientation='vertical',pad=0.02,aspect=50,spacing='uniform',ax=ax,fraction=0.011)\n",
    "cbar.set_label('mGal',fontsize=10)\n",
    "\n",
    "plt.savefig('images/disturbance_andes.png',dpi=200,bbox_inches='tight')\n",
    "\n",
    "plt.show()"
   ]
  },
  {
   "cell_type": "markdown",
   "metadata": {},
   "source": [
    "# Topografia"
   ]
  },
  {
   "cell_type": "code",
   "execution_count": null,
   "metadata": {},
   "outputs": [],
   "source": [
    "fig = plt.figure(figsize=[6,6])\n",
    "\n",
    "ax = fig.add_subplot(projection=ccrs.PlateCarree())\n",
    "ax.set_title('Topography (Andes)',fontsize=15)\n",
    "ax.coastlines(linewidth=0.5)\n",
    "ax.set_extent([lon.values.min(),lon.values.max(),\n",
    "               lat.values.min(),lat.values.max()], ccrs.PlateCarree())\n",
    "gd = ax.gridlines(visible=None,draw_labels=True, dms=False, x_inline=False, y_inline=False)\n",
    "gd.top_labels = False\n",
    "gd.right_labels = False\n",
    "\n",
    "cmap = ax.contourf(longitude,latitude,topography,\n",
    "                   100,transform=ccrs.PlateCarree(),\n",
    "                   norm=colors.CenteredNorm(),\n",
    "                   cmap='terrain')\n",
    "\n",
    "cbar = fig.colorbar(cmap,orientation='vertical',pad=0.02,aspect=50,spacing='uniform',ax=ax,fraction=0.011)\n",
    "cbar.set_label('meters',fontsize=10)\n",
    "\n",
    "plt.savefig('images/topography_andes.png',dpi=200,bbox_inches='tight')\n",
    "\n",
    "plt.show()"
   ]
  },
  {
   "cell_type": "markdown",
   "metadata": {},
   "source": [
    "# Anomalia Bouguer"
   ]
  },
  {
   "cell_type": "code",
   "execution_count": null,
   "metadata": {},
   "outputs": [],
   "source": [
    "reference = geoidal_height + topography\n",
    "bouguer_correction = hm.bouguer_correction(reference)\n",
    "bouguer_anomaly = disturbance - bouguer_correction"
   ]
  },
  {
   "cell_type": "code",
   "execution_count": null,
   "metadata": {},
   "outputs": [],
   "source": [
    "fig = plt.figure(figsize=[6,6])\n",
    "\n",
    "ax = fig.add_subplot(projection=ccrs.PlateCarree())\n",
    "ax.set_title('Bouguer Anomaly (Andes)',fontsize=15)\n",
    "ax.coastlines(linewidth=0.5)\n",
    "ax.set_extent([lon.values.min(),lon.values.max(),\n",
    "               lat.values.min(),lat.values.max()], ccrs.PlateCarree())\n",
    "gd = ax.gridlines(visible=None,draw_labels=True, dms=False, x_inline=False, y_inline=False)\n",
    "gd.top_labels = False\n",
    "gd.right_labels = False\n",
    "\n",
    "cmap = ax.contourf(longitude,latitude,bouguer_anomaly,\n",
    "                   100,transform=ccrs.PlateCarree(),\n",
    "                   norm=colors.CenteredNorm(),\n",
    "                   cmap='RdBu_r')\n",
    "\n",
    "cbar = fig.colorbar(cmap,orientation='vertical',pad=0.02,aspect=50,spacing='uniform',ax=ax,fraction=0.011)\n",
    "cbar.set_label('mGal',fontsize=10)\n",
    "\n",
    "plt.savefig('images/bouguer_andes.png',dpi=200,bbox_inches='tight')\n",
    "\n",
    "plt.show()"
   ]
  },
  {
   "cell_type": "markdown",
   "metadata": {},
   "source": [
    "# Extraindo e visualizando os dados em um perfil"
   ]
  },
  {
   "cell_type": "markdown",
   "metadata": {},
   "source": [
    "## Projeção do sistema de coordenadas geográfico para o sistema de coordenadas cartesiano"
   ]
  },
  {
   "cell_type": "code",
   "execution_count": null,
   "metadata": {},
   "outputs": [],
   "source": [
    "projection = pyproj.Proj(proj=\"merc\", lat_ts=lat.values.mean())"
   ]
  },
  {
   "cell_type": "code",
   "execution_count": null,
   "metadata": {},
   "outputs": [],
   "source": [
    "proj_coords = projection(longitude,latitude)"
   ]
  },
  {
   "cell_type": "markdown",
   "metadata": {},
   "source": [
    "## Definindo a redução dos dados"
   ]
  },
  {
   "cell_type": "code",
   "execution_count": null,
   "metadata": {},
   "outputs": [],
   "source": [
    "spacing = 15/60\n",
    "reducer = vd.BlockReduce(reduction=\"mean\", spacing=spacing * 111*1e3)"
   ]
  },
  {
   "cell_type": "markdown",
   "metadata": {},
   "source": [
    "## Perfil do Distúrbio de gravidade"
   ]
  },
  {
   "cell_type": "code",
   "execution_count": null,
   "metadata": {},
   "outputs": [],
   "source": [
    "filter_coords, filter_disturbance = reducer.filter(proj_coords, disturbance)\n",
    "spline = vd.Spline(damping=1e-10).fit(filter_coords, filter_disturbance)"
   ]
  },
  {
   "cell_type": "code",
   "execution_count": null,
   "metadata": {},
   "outputs": [],
   "source": [
    "point1 = (-75.5,-22.0)\n",
    "point2 = (-62.5,-22.0)\n",
    "line_disturbance = spline.profile(\n",
    "    point1=point1,\n",
    "    point2=point2,\n",
    "    size=300,\n",
    "    projection=projection,\n",
    "    dims=(\"latitude\",\"longitude\"),\n",
    "    data_names=(\"disturbance\"),\n",
    ")"
   ]
  },
  {
   "cell_type": "code",
   "execution_count": null,
   "metadata": {},
   "outputs": [],
   "source": [
    "fig = plt.figure(figsize=[6,6])\n",
    "\n",
    "ax = fig.add_subplot(projection=ccrs.PlateCarree())\n",
    "ax.set_title('Distúrbio de gravidade (Andes)',fontsize=15)\n",
    "ax.coastlines(linewidth=0.5)\n",
    "ax.set_extent([lon.values.min(),lon.values.max(),\n",
    "               lat.values.min(),lat.values.max()], ccrs.PlateCarree())\n",
    "gd = ax.gridlines(visible=None,draw_labels=True, dms=False, x_inline=False, y_inline=False)\n",
    "gd.top_labels = False\n",
    "gd.right_labels = False\n",
    "\n",
    "cmap = ax.contourf(longitude,latitude,disturbance,\n",
    "                   100,transform=ccrs.PlateCarree(),\n",
    "                   norm=colors.CenteredNorm(),\n",
    "                   cmap='RdBu_r')\n",
    "\n",
    "cbar = fig.colorbar(cmap,orientation='vertical',pad=0.02,aspect=50,spacing='uniform',ax=ax,fraction=0.011)\n",
    "cbar.set_label('mGal',fontsize=10)\n",
    "\n",
    "ax.plot(line_disturbance.longitude, line_disturbance.latitude, \"-k\", transform=ccrs.PlateCarree())\n",
    "ax.text(point1[0], point1[1], \"A\", transform=ccrs.PlateCarree())\n",
    "ax.text(point2[0], point2[1], \"B\", transform=ccrs.PlateCarree())\n",
    "\n",
    "plt.savefig('images/disturbance_profile_andes.png',dpi=200,bbox_inches='tight')\n",
    "\n",
    "plt.show()"
   ]
  },
  {
   "cell_type": "markdown",
   "metadata": {},
   "source": [
    "## Perfil da Anomalia Bouguer"
   ]
  },
  {
   "cell_type": "code",
   "execution_count": null,
   "metadata": {},
   "outputs": [],
   "source": [
    "filter_coords, filter_bouguer = reducer.filter(proj_coords, bouguer_anomaly)\n",
    "spline = vd.Spline(damping=1e-10).fit(filter_coords, filter_bouguer)"
   ]
  },
  {
   "cell_type": "code",
   "execution_count": null,
   "metadata": {},
   "outputs": [],
   "source": [
    "point1 = (-75.5,-22.0)\n",
    "point2 = (-62.5,-22.0)\n",
    "line_bouguer = spline.profile(\n",
    "    point1=point1,\n",
    "    point2=point2,\n",
    "    size=300,\n",
    "    projection=projection,\n",
    "    dims=(\"latitude\",\"longitude\"),\n",
    "    data_names=(\"bouguer_anomaly\"),\n",
    ")"
   ]
  },
  {
   "cell_type": "code",
   "execution_count": null,
   "metadata": {},
   "outputs": [],
   "source": [
    "fig = plt.figure(figsize=[6,6])\n",
    "\n",
    "ax = fig.add_subplot(projection=ccrs.PlateCarree())\n",
    "ax.set_title('Anomalia Bouguer (Andes)',fontsize=15)\n",
    "ax.coastlines(linewidth=0.5)\n",
    "ax.set_extent([lon.values.min(),lon.values.max(),\n",
    "               lat.values.min(),lat.values.max()], ccrs.PlateCarree())\n",
    "gd = ax.gridlines(visible=None,draw_labels=True, dms=False, x_inline=False, y_inline=False)\n",
    "gd.top_labels = False\n",
    "gd.right_labels = False\n",
    "\n",
    "cmap = ax.contourf(longitude,latitude,bouguer_anomaly,\n",
    "                   100,transform=ccrs.PlateCarree(),\n",
    "                   norm=colors.CenteredNorm(),\n",
    "                   cmap='RdBu_r')\n",
    "\n",
    "cbar = fig.colorbar(cmap,orientation='vertical',pad=0.02,aspect=50,spacing='uniform',ax=ax,fraction=0.011)\n",
    "cbar.set_label('mGal',fontsize=10)\n",
    "\n",
    "ax.plot(line_bouguer.longitude, line_bouguer.latitude, \"-k\", transform=ccrs.PlateCarree())\n",
    "ax.text(point1[0], point1[1], \"A\", transform=ccrs.PlateCarree())\n",
    "ax.text(point2[0], point2[1], \"B\", transform=ccrs.PlateCarree())\n",
    "\n",
    "plt.savefig('images/bouguer_profile_andes.png',dpi=200,bbox_inches='tight')\n",
    "\n",
    "plt.show()"
   ]
  },
  {
   "cell_type": "markdown",
   "metadata": {},
   "source": [
    "## Perfil de Topografia"
   ]
  },
  {
   "cell_type": "code",
   "execution_count": null,
   "metadata": {},
   "outputs": [],
   "source": [
    "filter_coords, filter_topo = reducer.filter(proj_coords, topography)\n",
    "spline = vd.Spline(damping=1e-10).fit(filter_coords, filter_topo)"
   ]
  },
  {
   "cell_type": "code",
   "execution_count": null,
   "metadata": {},
   "outputs": [],
   "source": [
    "point1 = (-75.5,-22.0)\n",
    "point2 = (-62.5,-22.0)\n",
    "line_topo = spline.profile(\n",
    "    point1=point1,\n",
    "    point2=point2,\n",
    "    size=300,\n",
    "    projection=projection,\n",
    "    dims=(\"latitude\",\"longitude\"),\n",
    "    data_names=(\"topography\"),\n",
    ")"
   ]
  },
  {
   "cell_type": "code",
   "execution_count": null,
   "metadata": {},
   "outputs": [],
   "source": [
    "fig = plt.figure(figsize=[6,6])\n",
    "\n",
    "ax = fig.add_subplot(projection=ccrs.PlateCarree())\n",
    "ax.set_title('Topografia (Andes)',fontsize=15)\n",
    "ax.coastlines(linewidth=0.5)\n",
    "ax.set_extent([lon.values.min(),lon.values.max(),\n",
    "               lat.values.min(),lat.values.max()], ccrs.PlateCarree())\n",
    "gd = ax.gridlines(visible=None,draw_labels=True, dms=False, x_inline=False, y_inline=False)\n",
    "gd.top_labels = False\n",
    "gd.right_labels = False\n",
    "\n",
    "cmap = ax.contourf(longitude,latitude,topography,\n",
    "                   100,transform=ccrs.PlateCarree(),\n",
    "                   norm=colors.CenteredNorm(),\n",
    "                   cmap='terrain')\n",
    "\n",
    "cbar = fig.colorbar(cmap,orientation='vertical',pad=0.02,aspect=50,spacing='uniform',ax=ax,fraction=0.011)\n",
    "cbar.set_label('meters',fontsize=10)\n",
    "\n",
    "ax.plot(line_topo.longitude, line_topo.latitude, \"-k\", transform=ccrs.PlateCarree())\n",
    "ax.text(point1[0], point1[1], \"A\", transform=ccrs.PlateCarree())\n",
    "ax.text(point2[0], point2[1], \"B\", transform=ccrs.PlateCarree())\n",
    "\n",
    "plt.savefig('images/topography_profile_andes.png',dpi=200,bbox_inches='tight')\n",
    "\n",
    "plt.show()"
   ]
  },
  {
   "cell_type": "markdown",
   "metadata": {},
   "source": [
    "### Visualizando tudo em um perfil"
   ]
  },
  {
   "cell_type": "code",
   "execution_count": null,
   "metadata": {},
   "outputs": [],
   "source": [
    "fig, (ax1, ax2) = plt.subplots(2, 1, sharex=True,figsize=(10, 5))\n",
    "\n",
    "ax1.set_title(\"Profile (A-B)\")\n",
    "ax1.plot(line_disturbance.distance,line_disturbance.disturbance,'-b',label='Disturbio')\n",
    "ax1.plot(line_bouguer.distance,line_bouguer.bouguer_anomaly,'-r',label='Bouguer')\n",
    "ax1.set_ylabel(\"Gravity (m)\")\n",
    "ax1.set_xlim(line_disturbance.distance.min(), line_disturbance.distance.max())\n",
    "ax1.grid()\n",
    "\n",
    "ax2.fill_between([line_topo.distance.min(), line_topo.distance.max()], [0, 0], -8000, color='blue')\n",
    "ax2.fill_between(line_topo.distance,line_topo.topography,-8000.,color='black')\n",
    "ax2.set_xlabel(\"Distance (m)\")\n",
    "ax2.set_ylabel(\"Topography (m)\")\n",
    "ax2.set_xlim(line_topo.distance.min(), line_topo.distance.max())\n",
    "ax2.set_ylim(line_topo.topography.min(), line_topo.topography.max() + 100.)\n",
    "\n",
    "plt.savefig('images/profile_andes.png',dpi=200,bbox_inches='tight')\n",
    "\n",
    "plt.show()"
   ]
  }
 ],
 "metadata": {
  "kernelspec": {
   "display_name": "Python 3 (ipykernel)",
   "language": "python",
   "name": "python3"
  },
  "language_info": {
   "codemirror_mode": {
    "name": "ipython",
    "version": 3
   },
   "file_extension": ".py",
   "mimetype": "text/x-python",
   "name": "python",
   "nbconvert_exporter": "python",
   "pygments_lexer": "ipython3",
   "version": "3.12.7"
  }
 },
 "nbformat": 4,
 "nbformat_minor": 4
}
