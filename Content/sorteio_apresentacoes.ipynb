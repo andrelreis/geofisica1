{
 "cells": [
  {
   "cell_type": "markdown",
   "id": "fdf348b7",
   "metadata": {},
   "source": [
    "# Notebook que auxilia no sorterio das apresentações"
   ]
  },
  {
   "cell_type": "markdown",
   "id": "5adfb082",
   "metadata": {},
   "source": [
    "Notebook que mistura os grupos e distribui ao longo dos dias de apresentações."
   ]
  },
  {
   "cell_type": "markdown",
   "id": "5cbfa103",
   "metadata": {},
   "source": [
    "## Importando bibliotecas"
   ]
  },
  {
   "cell_type": "code",
   "execution_count": 1,
   "id": "aa4b7223",
   "metadata": {},
   "outputs": [],
   "source": [
    "import numpy as np\n",
    "import random"
   ]
  },
  {
   "cell_type": "markdown",
   "id": "0a9aed31",
   "metadata": {},
   "source": [
    "## Organizando os grupos nos dias das apresentações"
   ]
  },
  {
   "cell_type": "code",
   "execution_count": 2,
   "id": "cd792239",
   "metadata": {},
   "outputs": [],
   "source": [
    "grupos = ['grupo_1','grupo_2','grupo_3','grupo_4','grupo_5','grupo_6']"
   ]
  },
  {
   "cell_type": "code",
   "execution_count": 3,
   "id": "0f4efef3",
   "metadata": {},
   "outputs": [],
   "source": [
    "dias = ['03/05','10/05','17/05']"
   ]
  },
  {
   "cell_type": "code",
   "execution_count": 4,
   "id": "f762c98b",
   "metadata": {},
   "outputs": [],
   "source": [
    "random.seed(40)\n",
    "random.shuffle(grupos) ### Função que embaralha a lista de grupos"
   ]
  },
  {
   "cell_type": "code",
   "execution_count": 5,
   "id": "67b6c96d",
   "metadata": {},
   "outputs": [
    {
     "name": "stdout",
     "output_type": "stream",
     "text": [
      "03/05 ['grupo_3', 'grupo_2']\n",
      "10/05 ['grupo_6', 'grupo_1']\n",
      "17/05 ['grupo_5', 'grupo_4']\n"
     ]
    }
   ],
   "source": [
    "## Loop que organiza os grupos ao longo dos dias\n",
    "for d in range(len(dias)):\n",
    "    print (dias[d],(grupos[2*d:2*d+2]))"
   ]
  },
  {
   "cell_type": "code",
   "execution_count": null,
   "id": "7104c294",
   "metadata": {},
   "outputs": [],
   "source": []
  }
 ],
 "metadata": {
  "kernelspec": {
   "display_name": "Python 3",
   "language": "python",
   "name": "python3"
  },
  "language_info": {
   "codemirror_mode": {
    "name": "ipython",
    "version": 3
   },
   "file_extension": ".py",
   "mimetype": "text/x-python",
   "name": "python",
   "nbconvert_exporter": "python",
   "pygments_lexer": "ipython3",
   "version": "3.7.6"
  }
 },
 "nbformat": 4,
 "nbformat_minor": 5
}
