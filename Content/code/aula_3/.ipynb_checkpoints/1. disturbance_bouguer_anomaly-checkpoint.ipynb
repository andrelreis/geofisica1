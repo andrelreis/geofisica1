{
 "cells": [
  {
   "cell_type": "markdown",
   "metadata": {},
   "source": [
    "# Distúrbio de gravidade e anomalia bouguer"
   ]
  },
  {
   "cell_type": "markdown",
   "metadata": {},
   "source": [
    "Notebook que demonstrará como calcular o distúrbio de gravidade e a anomalia bouguer para o mundo inteiro."
   ]
  },
  {
   "cell_type": "markdown",
   "metadata": {},
   "source": [
    "## Importando bibliotecas"
   ]
  },
  {
   "cell_type": "code",
   "execution_count": null,
   "metadata": {},
   "outputs": [],
   "source": [
    "import numpy as np\n",
    "import matplotlib.pyplot as plt\n",
    "import cartopy.crs as ccrs\n",
    "import boule as bl\n",
    "import harmonica as hm"
   ]
  },
  {
   "cell_type": "code",
   "execution_count": null,
   "metadata": {},
   "outputs": [],
   "source": [
    "notebook_name = '1. disturbance_bouguer_anomaly.ip'"
   ]
  },
  {
   "cell_type": "markdown",
   "metadata": {},
   "source": [
    "### Plot style"
   ]
  },
  {
   "cell_type": "code",
   "execution_count": null,
   "metadata": {},
   "outputs": [],
   "source": [
    "plt.style.use('ggplot')"
   ]
  },
  {
   "cell_type": "markdown",
   "metadata": {},
   "source": [
    "### Carregando os dados"
   ]
  },
  {
   "cell_type": "code",
   "execution_count": null,
   "metadata": {},
   "outputs": [],
   "source": [
    "fname = 'data_set/gravity_05deg_EIGEN-6C4.gdf'"
   ]
  },
  {
   "cell_type": "code",
   "execution_count": null,
   "metadata": {},
   "outputs": [],
   "source": [
    "data = hm.load_icgem_gdf(fname)"
   ]
  },
  {
   "cell_type": "code",
   "execution_count": null,
   "metadata": {},
   "outputs": [],
   "source": [
    "fname = 'data_set/geoid_05degree_EIGEN-6C4.gdf'"
   ]
  },
  {
   "cell_type": "code",
   "execution_count": null,
   "metadata": {},
   "outputs": [],
   "source": [
    "geoide = hm.load_icgem_gdf(fname)"
   ]
  },
  {
   "cell_type": "code",
   "execution_count": null,
   "metadata": {},
   "outputs": [],
   "source": [
    "data['geoid'] = geoide.geoid"
   ]
  },
  {
   "cell_type": "code",
   "execution_count": null,
   "metadata": {},
   "outputs": [],
   "source": [
    "fname = 'data_set/topography_05degree_etopo1.gdf'"
   ]
  },
  {
   "cell_type": "code",
   "execution_count": null,
   "metadata": {},
   "outputs": [],
   "source": [
    "topografia = hm.load_icgem_gdf(fname) "
   ]
  },
  {
   "cell_type": "code",
   "execution_count": null,
   "metadata": {},
   "outputs": [],
   "source": [
    "data['topography'] = topografia.topography_shm"
   ]
  },
  {
   "cell_type": "code",
   "execution_count": null,
   "metadata": {},
   "outputs": [],
   "source": [
    "data"
   ]
  },
  {
   "cell_type": "markdown",
   "metadata": {},
   "source": [
    "### Inserindo os dados em um DataFrame"
   ]
  },
  {
   "cell_type": "code",
   "execution_count": null,
   "metadata": {},
   "outputs": [],
   "source": [
    "latitude = data.latitude\n",
    "longitude = data.longitude\n",
    "elevation = data.h_over_geoid\n",
    "geoid = data.geoid\n",
    "gravity = data.gravity_earth\n",
    "topography = data.topography"
   ]
  },
  {
   "cell_type": "markdown",
   "metadata": {},
   "source": [
    "### Campo de gravidade para o mundo inteiro"
   ]
  },
  {
   "cell_type": "code",
   "execution_count": null,
   "metadata": {},
   "outputs": [],
   "source": [
    "title_font = 20\n",
    "bottom_font = 18\n",
    "plt.figure(figsize=(10,10), tight_layout=True)\n",
    "\n",
    "projection=ccrs.Mollweide(central_longitude=-50)\n",
    "ax = plt.axes(projection=projection)\n",
    "ax.set_global()\n",
    "ax.coastlines()\n",
    "ax.set_title(\"Gravity of the Earth\")\n",
    "pg = ax.contourf(longitude,\n",
    "                 latitude,\n",
    "                 gravity,100,transform=ccrs.PlateCarree(),cmap='seismic')\n",
    "cb = plt.colorbar(pg,label=\"mGal\", orientation=\"horizontal\", pad=.01, aspect=50, shrink=0.9)\n",
    "\n",
    "file_name = 'images/gravity_earth'\n",
    "plt.savefig(file_name+'.png',dpi=300)\n",
    "\n",
    "plt.show()"
   ]
  },
  {
   "cell_type": "markdown",
   "metadata": {},
   "source": [
    "### Gravidade Normal"
   ]
  },
  {
   "cell_type": "markdown",
   "metadata": {},
   "source": [
    "#### Parâmetros do elipsoide WGS84"
   ]
  },
  {
   "cell_type": "code",
   "execution_count": null,
   "metadata": {},
   "outputs": [],
   "source": [
    "elipsoide = bl.WGS84"
   ]
  },
  {
   "cell_type": "markdown",
   "metadata": {},
   "source": [
    "#### Formula proposta por Li and Gotze (2001)"
   ]
  },
  {
   "cell_type": "code",
   "execution_count": null,
   "metadata": {},
   "outputs": [],
   "source": [
    "gamma = elipsoide.normal_gravity(latitude,elevation)"
   ]
  },
  {
   "cell_type": "markdown",
   "metadata": {},
   "source": [
    "## Gravidade Normal"
   ]
  },
  {
   "cell_type": "code",
   "execution_count": null,
   "metadata": {},
   "outputs": [],
   "source": [
    "title_font = 20\n",
    "bottom_font = 18\n",
    "plt.figure(figsize=(10,10), tight_layout=True)\n",
    "\n",
    "projection=ccrs.Orthographic(central_longitude=-50)\n",
    "ax = plt.axes(projection=projection)\n",
    "ax.set_global()\n",
    "ax.coastlines()\n",
    "ax.set_title(\"Normal Gravity over topography\")\n",
    "pg = ax.pcolormesh(longitude,\n",
    "                   latitude,\n",
    "                   gamma,transform=ccrs.PlateCarree(),cmap='seismic')\n",
    "cb = plt.colorbar(pg,label=\"mGal\", orientation=\"horizontal\", pad=.01, aspect=50, shrink=0.9)\n",
    "\n",
    "file_name = 'images/normal_gravity_topography_Li_and_Gotze_2001'\n",
    "plt.savefig(file_name+'.png',dpi=300)\n",
    "\n",
    "plt.show()"
   ]
  },
  {
   "cell_type": "markdown",
   "metadata": {},
   "source": [
    "### Cálculo do distúrbio de gravidade "
   ]
  },
  {
   "cell_type": "code",
   "execution_count": null,
   "metadata": {},
   "outputs": [],
   "source": [
    "disturbance = gravity - gamma"
   ]
  },
  {
   "cell_type": "code",
   "execution_count": null,
   "metadata": {},
   "outputs": [],
   "source": [
    "ranges = np.abs(disturbance.min())"
   ]
  },
  {
   "cell_type": "markdown",
   "metadata": {},
   "source": [
    "## Visualização do distúrbio para o mundo inteiro"
   ]
  },
  {
   "cell_type": "code",
   "execution_count": null,
   "metadata": {},
   "outputs": [],
   "source": [
    "title_font = 20\n",
    "bottom_font = 18\n",
    "plt.figure(figsize=(10,10), tight_layout=True)\n",
    "\n",
    "projection=ccrs.Orthographic(central_longitude=-50)\n",
    "ax = plt.axes(projection=projection)\n",
    "ax.set_global()\n",
    "ax.coastlines()\n",
    "ax.set_title(\"Gravity disturbance of the Earth\")\n",
    "pg = ax.pcolormesh(longitude,\n",
    "                   latitude,\n",
    "                   disturbance,transform=ccrs.PlateCarree(),cmap='seismic',vmax=ranges,vmin=-ranges)\n",
    "cb = plt.colorbar(pg,label=\"mGal\",orientation=\"horizontal\", pad=.01, aspect=50, shrink=0.9)\n",
    "\n",
    "file_name = 'images/gravity_disturbance'\n",
    "plt.savefig(file_name+'.png',dpi=300)\n",
    "\n",
    "plt.show()"
   ]
  },
  {
   "cell_type": "markdown",
   "metadata": {},
   "source": [
    "## Cálculo da anomalia bouguer"
   ]
  },
  {
   "cell_type": "code",
   "execution_count": null,
   "metadata": {},
   "outputs": [],
   "source": [
    "altura_geometrica = geoid + topography"
   ]
  },
  {
   "cell_type": "code",
   "execution_count": null,
   "metadata": {},
   "outputs": [],
   "source": [
    "bouguer = hm.bouguer_correction(altura_geometrica)"
   ]
  },
  {
   "cell_type": "code",
   "execution_count": null,
   "metadata": {},
   "outputs": [],
   "source": [
    "disturbance_topofree = disturbance - bouguer"
   ]
  },
  {
   "cell_type": "code",
   "execution_count": null,
   "metadata": {},
   "outputs": [],
   "source": [
    "ranges = np.abs(disturbance_topofree.min())"
   ]
  },
  {
   "cell_type": "markdown",
   "metadata": {},
   "source": [
    "### Visualização anomalia bouguer"
   ]
  },
  {
   "cell_type": "code",
   "execution_count": null,
   "metadata": {},
   "outputs": [],
   "source": [
    "title_font = 20\n",
    "bottom_font = 18\n",
    "plt.figure(figsize=(10,10), tight_layout=True)\n",
    "\n",
    "projection=ccrs.Orthographic(central_longitude=-50)\n",
    "ax = plt.axes(projection=projection)\n",
    "ax.set_global()\n",
    "ax.coastlines()\n",
    "ax.set_title(\"Distúrbio - anomalia bouguer\")\n",
    "pg = ax.pcolormesh(longitude,\n",
    "                   latitude,\n",
    "                   disturbance_topofree,transform=ccrs.PlateCarree(),cmap='RdBu_r',vmax=ranges,vmin=-ranges)\n",
    "cb = plt.colorbar(pg,label=\"mGal\", orientation=\"horizontal\", pad=.01, aspect=50, shrink=0.9)\n",
    "\n",
    "file_name = 'images/disturbance_topofree'\n",
    "plt.savefig(file_name+'.png',dpi=300)\n",
    "\n",
    "plt.show()"
   ]
  }
 ],
 "metadata": {
  "kernelspec": {
   "display_name": "Python 3",
   "language": "python",
   "name": "python3"
  },
  "language_info": {
   "codemirror_mode": {
    "name": "ipython",
    "version": 3
   },
   "file_extension": ".py",
   "mimetype": "text/x-python",
   "name": "python",
   "nbconvert_exporter": "python",
   "pygments_lexer": "ipython3",
   "version": "3.7.6"
  }
 },
 "nbformat": 4,
 "nbformat_minor": 2
}
